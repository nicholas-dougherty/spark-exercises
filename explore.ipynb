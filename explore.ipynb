{
 "cells": [
  {
   "cell_type": "markdown",
   "id": "4a66ad00-5acb-4e4c-bfd2-de2fc60dc975",
   "metadata": {},
   "source": [
    "## Exploration Exercises\n",
    "\n",
    "Answer the questions below by using a combination of the techniques discussed in the lesson that you think is appropriate.\n",
    "\n",
    "- How many different cases are there, by department?\n",
    "- Does the percentage of cases that are late vary by department?\n",
    "- On average, how late are the late cases by department?\n",
    "- What is the service type that is the most late? Just for Parks & Rec?\n",
    "- For the DSD/Code Enforcement department, what are the most common service request types? Look at other departments too.\n",
    "- Does whether or not its a weekend matter for when a case is opened/closed?\n",
    "- On average, how many cases are opened a day for the Customer Service department?\n",
    "- Does the number of service requests for the solid waste department vary by day of the week?"
   ]
  },
  {
   "cell_type": "code",
   "execution_count": 2,
   "id": "fafee394-7bda-4724-a76d-c45ac0f98035",
   "metadata": {},
   "outputs": [],
   "source": [
    "import pyspark.sql\n",
    "from pyspark.sql.functions import *\n",
    "\n",
    "import numpy as np\n",
    "import pandas as pd\n",
    "\n",
    "import wrangle as w\n",
    "\n",
    "%matplotlib inline\n",
    "import matplotlib.pyplot as plt\n",
    "import seaborn as sns\n",
    "\n",
    "spark = pyspark.sql.SparkSession.builder.getOrCreate()"
   ]
  },
  {
   "cell_type": "code",
   "execution_count": 4,
   "id": "3d6530c4-0f2b-403e-8e75-096ccaf069f3",
   "metadata": {},
   "outputs": [
    {
     "ename": "TypeError",
     "evalue": "wrangle_311() missing 1 required positional argument: 'spark'",
     "output_type": "error",
     "traceback": [
      "\u001b[0;31m---------------------------------------------------------------------------\u001b[0m",
      "\u001b[0;31mTypeError\u001b[0m                                 Traceback (most recent call last)",
      "\u001b[0;32m/var/folders/qn/sd1_3x2j4196db03067vql600000gn/T/ipykernel_36212/1080673292.py\u001b[0m in \u001b[0;36m<module>\u001b[0;34m\u001b[0m\n\u001b[0;32m----> 1\u001b[0;31m \u001b[0mdf\u001b[0m \u001b[0;34m=\u001b[0m \u001b[0mw\u001b[0m\u001b[0;34m.\u001b[0m\u001b[0mwrangle_311\u001b[0m\u001b[0;34m(\u001b[0m\u001b[0;34m)\u001b[0m\u001b[0;34m\u001b[0m\u001b[0;34m\u001b[0m\u001b[0m\n\u001b[0m",
      "\u001b[0;31mTypeError\u001b[0m: wrangle_311() missing 1 required positional argument: 'spark'"
     ]
    }
   ],
   "source": [
    "df = w.wrangle_311()"
   ]
  },
  {
   "cell_type": "code",
   "execution_count": null,
   "id": "dda54359-8a11-4e46-90ec-c7e66d643fb7",
   "metadata": {},
   "outputs": [],
   "source": [
    "# How many different cases are there, by department?"
   ]
  },
  {
   "cell_type": "code",
   "execution_count": null,
   "id": "a5ca578f-94f7-4480-8458-0bd74aef1bbf",
   "metadata": {},
   "outputs": [],
   "source": [
    "# Does the percentage of cases that are late vary by department?"
   ]
  },
  {
   "cell_type": "code",
   "execution_count": null,
   "id": "4f973ea9-40e2-47df-be54-0cb1dab70dbf",
   "metadata": {},
   "outputs": [],
   "source": [
    "# On average, how late are the late cases by department?"
   ]
  },
  {
   "cell_type": "code",
   "execution_count": null,
   "id": "6073fc1d-e7f6-4025-bbf1-13299046c820",
   "metadata": {},
   "outputs": [],
   "source": [
    "# What is the service type that is the most late? Just for Parks & Rec?"
   ]
  },
  {
   "cell_type": "code",
   "execution_count": null,
   "id": "1a4bbf83-5e58-49e4-bed8-b3588e23da72",
   "metadata": {},
   "outputs": [],
   "source": [
    "# For the DSD/Code Enforcement department, what are the most common service request types?"
   ]
  },
  {
   "cell_type": "code",
   "execution_count": null,
   "id": "d80d8565-24bd-4e09-b6c4-3e38638f6f4e",
   "metadata": {},
   "outputs": [],
   "source": [
    "# Does whether or not its a weekend matter for when a case is opened/closed?"
   ]
  },
  {
   "cell_type": "code",
   "execution_count": null,
   "id": "493dde8e-f69e-48cd-b610-30839b594168",
   "metadata": {},
   "outputs": [],
   "source": [
    "# On average, how many cases are opened a day for the Customer Service department?"
   ]
  },
  {
   "cell_type": "code",
   "execution_count": null,
   "id": "948f3b8a-c621-4c51-a836-c87c4f89dee9",
   "metadata": {},
   "outputs": [],
   "source": [
    "# Does the number of service requests for the solid waste department vary by day of the week?"
   ]
  }
 ],
 "metadata": {
  "kernelspec": {
   "display_name": "Python 3 (ipykernel)",
   "language": "python",
   "name": "python3"
  },
  "language_info": {
   "codemirror_mode": {
    "name": "ipython",
    "version": 3
   },
   "file_extension": ".py",
   "mimetype": "text/x-python",
   "name": "python",
   "nbconvert_exporter": "python",
   "pygments_lexer": "ipython3",
   "version": "3.9.7"
  }
 },
 "nbformat": 4,
 "nbformat_minor": 5
}
