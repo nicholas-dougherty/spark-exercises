{
 "cells": [
  {
   "cell_type": "markdown",
   "id": "4a66ad00-5acb-4e4c-bfd2-de2fc60dc975",
   "metadata": {},
   "source": [
    "## Exploration Exercises\n",
    "\n",
    "Answer the questions below by using a combination of the techniques discussed in the lesson that you think is appropriate.\n",
    "\n",
    "- How many different cases are there, by department?\n",
    "- Does the percentage of cases that are late vary by department?\n",
    "- On average, how late are the late cases by department?\n",
    "- What is the service type that is the most late? Just for Parks & Rec?\n",
    "- For the DSD/Code Enforcement department, what are the most common service request types? Look at other departments too.\n",
    "- Does whether or not its a weekend matter for when a case is opened/closed?\n",
    "- On average, how many cases are opened a day for the Customer Service department?\n",
    "- Does the number of service requests for the solid waste department vary by day of the week?"
   ]
  },
  {
   "cell_type": "code",
   "execution_count": 20,
   "id": "fafee394-7bda-4724-a76d-c45ac0f98035",
   "metadata": {},
   "outputs": [],
   "source": [
    "import pyspark.sql\n",
    "from pyspark.sql.functions import *\n",
    "\n",
    "import numpy as np\n",
    "import pandas as pd\n",
    "\n",
    "import wrangle as w\n",
    "\n",
    "%matplotlib inline\n",
    "import matplotlib.pyplot as plt\n",
    "import seaborn as sns\n",
    "import matplotlib\n",
    "\n",
    "spark = pyspark.sql.SparkSession.builder.getOrCreate()"
   ]
  },
  {
   "cell_type": "code",
   "execution_count": 5,
   "id": "3d6530c4-0f2b-403e-8e75-096ccaf069f3",
   "metadata": {},
   "outputs": [
    {
     "name": "stdout",
     "output_type": "stream",
     "text": [
      "[wrangle.py] reading case.csv\n"
     ]
    },
    {
     "name": "stderr",
     "output_type": "stream",
     "text": [
      "                                                                                \r"
     ]
    },
    {
     "name": "stdout",
     "output_type": "stream",
     "text": [
      "[wrangle.py] handling data types\n",
      "[wrangle.py] parsing dates\n",
      "[wrangle.py] adding features\n"
     ]
    },
    {
     "name": "stderr",
     "output_type": "stream",
     "text": [
      "                                                                                \r"
     ]
    },
    {
     "name": "stdout",
     "output_type": "stream",
     "text": [
      "[wrangle.py] joining departments\n"
     ]
    }
   ],
   "source": [
    "df = w.wrangle_311(spark)"
   ]
  },
  {
   "cell_type": "code",
   "execution_count": 8,
   "id": "0f643b29-e2cf-4d68-ad34-9f5514e4670f",
   "metadata": {},
   "outputs": [
    {
     "name": "stdout",
     "output_type": "stream",
     "text": [
      "-RECORD 0----------------------------------------------------\n",
      " case_id              | 1014127332                           \n",
      " case_opened_date     | 2018-01-01 00:42:00                  \n",
      " case_closed_date     | 2018-01-01 12:29:00                  \n",
      " case_due_date        | 2020-09-26 00:42:00                  \n",
      " case_late            | false                                \n",
      " num_days_late        | -998.5087616000001                   \n",
      " case_closed          | true                                 \n",
      " service_request_type | Stray Animal                         \n",
      " SLA_days             | 999.0                                \n",
      " case_status          | Closed                               \n",
      " source_id            | svcCRMLS                             \n",
      " request_address      | 2315  EL PASO ST, San Antonio, 78207 \n",
      " council_district     | 005                                  \n",
      " num_weeks_late       | -142.6441088                         \n",
      " zipcode              | 78207                                \n",
      " case_age             | 219                                  \n",
      " days_to_closed       | 0                                    \n",
      " case_lifetime        | 0                                    \n",
      " department           | Animal Care Services                 \n",
      " dept_subject_to_SLA  | true                                 \n",
      "only showing top 1 row\n",
      "\n"
     ]
    }
   ],
   "source": [
    "df.show(1, False, True)"
   ]
  },
  {
   "cell_type": "code",
   "execution_count": 9,
   "id": "dda54359-8a11-4e46-90ec-c7e66d643fb7",
   "metadata": {},
   "outputs": [
    {
     "name": "stderr",
     "output_type": "stream",
     "text": [
      "[Stage 14:=======>                                                  (1 + 7) / 8]\r"
     ]
    },
    {
     "name": "stdout",
     "output_type": "stream",
     "text": [
      "+--------------------+------+\n",
      "|          department| count|\n",
      "+--------------------+------+\n",
      "|         Solid Waste|279270|\n",
      "|Animal Care Services|116915|\n",
      "|Trans & Cap Impro...| 96193|\n",
      "|  Parks & Recreation| 19907|\n",
      "|    Customer Service|  2849|\n",
      "|        Metro Health|  5163|\n",
      "|        City Council|    33|\n",
      "|DSD/Code Enforcement|321374|\n",
      "+--------------------+------+\n",
      "\n"
     ]
    },
    {
     "name": "stderr",
     "output_type": "stream",
     "text": [
      "                                                                                \r"
     ]
    }
   ],
   "source": [
    "# How many different cases are there, by department?\n",
    "df.groupby('department').count().show()"
   ]
  },
  {
   "cell_type": "code",
   "execution_count": 14,
   "id": "5556dace-6ae3-4365-99af-89099e86f4f9",
   "metadata": {},
   "outputs": [
    {
     "name": "stderr",
     "output_type": "stream",
     "text": [
      "                                                                                \r"
     ]
    },
    {
     "data": {
      "text/plain": [
       "Text(0.5, 0, 'Number of Cases')"
      ]
     },
     "execution_count": 14,
     "metadata": {},
     "output_type": "execute_result"
    },
    {
     "data": {
      "image/png": "[encoded data removed]",
      "text/plain": [
       "<Figure size 864x504 with 1 Axes>"
      ]
     },
     "metadata": {
      "needs_background": "light"
     },
     "output_type": "display_data"
    }
   ],
   "source": [
    "# First aggregate with spark\n",
    "(\n",
    "# group by    \n",
    "    df.groupBy(\"department\")\n",
    "# aggregate by count    \n",
    "    .count()\n",
    "# then pass to pandas\n",
    "    .toPandas()\n",
    "# once its a dataframe, pass department as our index\n",
    "    .set_index(\"department\")[\"count\"]\n",
    "# sort our values for cleanliness of visualization\n",
    "    .sort_values(ascending=True)\n",
    "# pass our Series (department count values) to matplotlib\n",
    "    .plot.barh(color = 'purple', width=.8, edgecolor=\"black\", figsize=(12, 7))\n",
    ")\n",
    "\n",
    "plt.title(\"Number of Cases By Department\")\n",
    "plt.ylabel(\"\")\n",
    "plt.xlabel(\"Number of Cases\")"
   ]
  },
  {
   "cell_type": "code",
   "execution_count": 15,
   "id": "a5ca578f-94f7-4480-8458-0bd74aef1bbf",
   "metadata": {},
   "outputs": [
    {
     "name": "stderr",
     "output_type": "stream",
     "text": [
      "[Stage 44:>                                                         (0 + 8) / 8]\r"
     ]
    },
    {
     "name": "stdout",
     "output_type": "stream",
     "text": [
      "+--------------------+------+-----+\n",
      "|          department| false| true|\n",
      "+--------------------+------+-----+\n",
      "|         Solid Waste|246325|32945|\n",
      "|Animal Care Services| 93639|23276|\n",
      "|Trans & Cap Impro...| 90782| 5411|\n",
      "|    Customer Service|   839| 2010|\n",
      "|  Parks & Recreation| 16110| 3797|\n",
      "|        Metro Health|  4334|  829|\n",
      "|        City Council|    33|    0|\n",
      "|DSD/Code Enforcement|295139|26235|\n",
      "+--------------------+------+-----+\n",
      "\n"
     ]
    },
    {
     "name": "stderr",
     "output_type": "stream",
     "text": [
      "                                                                                \r"
     ]
    }
   ],
   "source": [
    "# Does the percentage of cases that are late vary by department\n",
    "df.groupby('department').pivot('case_late').count().fillna(0).show()"
   ]
  },
  {
   "cell_type": "code",
   "execution_count": 17,
   "id": "1b76cd08-a6bc-48c3-bdb2-342969093cdd",
   "metadata": {},
   "outputs": [
    {
     "name": "stderr",
     "output_type": "stream",
     "text": [
      "[Stage 63:>                                                         (0 + 8) / 8]\r"
     ]
    },
    {
     "name": "stdout",
     "output_type": "stream",
     "text": [
      "+--------------------+------+-----+------+\n",
      "|          department| false| true|   all|\n",
      "+--------------------+------+-----+------+\n",
      "|         Solid Waste|246325|32945|279270|\n",
      "|Animal Care Services| 93639|23276|116915|\n",
      "|Trans & Cap Impro...| 90782| 5411| 96193|\n",
      "|    Customer Service|   839| 2010|  2849|\n",
      "|  Parks & Recreation| 16110| 3797| 19907|\n",
      "|        Metro Health|  4334|  829|  5163|\n",
      "|        City Council|    33|    0|    33|\n",
      "|DSD/Code Enforcement|295139|26235|321374|\n",
      "+--------------------+------+-----+------+\n",
      "\n"
     ]
    },
    {
     "name": "stderr",
     "output_type": "stream",
     "text": [
      "                                                                                \r"
     ]
    }
   ],
   "source": [
    "# Finding all the late cases\n",
    "late_cases = df.groupby('department').pivot('case_late').count().fillna(0)\n",
    "# total counts\n",
    "late_cases.withColumn('all', ( col('true') + col('false')) ).show()"
   ]
  },
  {
   "cell_type": "code",
   "execution_count": 21,
   "id": "5bf62f58-7ab7-470a-a1c0-16fd55b75264",
   "metadata": {},
   "outputs": [
    {
     "name": "stderr",
     "output_type": "stream",
     "text": [
      "                                                                                \r"
     ]
    },
    {
     "data": {
      "image/png": "[encoded data removed]",
      "text/plain": [
       "<Figure size 864x504 with 1 Axes>"
      ]
     },
     "metadata": {
      "needs_background": "light"
     },
     "output_type": "display_data"
    }
   ],
   "source": [
    "(\n",
    "    # groupby Department\n",
    "    df.groupby('department')\n",
    "    \n",
    "    # pivot on case late and count\n",
    "    .pivot('case_late').count()\n",
    "    .fillna(0)\n",
    "    \n",
    "    # create the all column\n",
    "    .withColumn('all', col('true') + col('false') )\n",
    "    \n",
    "    # convert to pandas\n",
    "    .toPandas()\n",
    "    \n",
    "    # set index to department for graphability\n",
    "    .set_index('department')\n",
    "    \n",
    "    # apply function that calculates percentage for each row\n",
    "    .apply(lambda row: row / row['all'], axis = 1)\n",
    "    \n",
    "    # drop the all column\n",
    "    .drop(columns = 'all')\n",
    "    \n",
    "    # sort so highest percentage of late cases is at the top\n",
    "    .sort_values(by = 'true')\n",
    "    \n",
    "    # plot as horizontal bar chart with custom colors\n",
    "    .plot.barh(stacked = True, figsize = (12,7), color = ['lightgrey', 'red'])\n",
    ")\n",
    "\n",
    "plt.legend(labels = ['On Time', 'Overdue'], bbox_to_anchor = ((1.03, 1)))\n",
    "plt.title('Percentage of Late Cases by Department', fontsize = 16)\n",
    "plt.xlabel('Percentage')\n",
    "plt.ylabel('Department')\n",
    "# set x tick lables to percentage format\n",
    "plt.gca().xaxis.set_major_formatter(matplotlib.ticker.FuncFormatter('{:.0%}'.format))\n",
    "\n",
    "plt.show()"
   ]
  },
  {
   "cell_type": "markdown",
   "id": "5b3f3753-c700-4606-94fb-ae85207d9fd5",
   "metadata": {},
   "source": [
    "Moar liek customer disservice, amirite? City council has their cases on lock; fewest cases by a long shot, with 0% overall. "
   ]
  },
  {
   "cell_type": "code",
   "execution_count": 22,
   "id": "4f973ea9-40e2-47df-be54-0cb1dab70dbf",
   "metadata": {},
   "outputs": [
    {
     "name": "stderr",
     "output_type": "stream",
     "text": [
      "[Stage 109:=======>                                                 (1 + 7) / 8]\r"
     ]
    },
    {
     "name": "stdout",
     "output_type": "stream",
     "text": [
      "+--------------------+------------------+\n",
      "|          department|     avg_days_late|\n",
      "+--------------------+------------------+\n",
      "|    Customer Service| 87.68385942150394|\n",
      "|DSD/Code Enforcement| 49.38428705358908|\n",
      "|Animal Care Services|23.458633245820124|\n",
      "|  Parks & Recreation|22.348910457867518|\n",
      "|Trans & Cap Impro...|10.603064680316946|\n",
      "|         Solid Waste| 7.186821906120899|\n",
      "|        Metro Health|6.5438133155476494|\n",
      "+--------------------+------------------+\n",
      "\n"
     ]
    },
    {
     "name": "stderr",
     "output_type": "stream",
     "text": [
      "                                                                                \r"
     ]
    }
   ],
   "source": [
    "# On average, how late are the late cases by department?\n",
    "(\n",
    "    df.filter(col('case_late') == 'true')\n",
    "    .groupBy('department').agg(mean('num_days_late').alias('avg_days_late'))\n",
    "    .sort(desc('avg_days_late'))\n",
    "    .show()\n",
    ")"
   ]
  },
  {
   "cell_type": "code",
   "execution_count": null,
   "id": "e3557331-bf6c-43cf-9b80-591c58c44082",
   "metadata": {},
   "outputs": [],
   "source": [
    "(\n",
    "    df.filter(col('case_late') == 'true')\n",
    "    .groupBy('department').agg(mean('num_days_late').alias('avg_days_late'))\n",
    "    .sort(desc('avg_days_late'))\n",
    "    .toPandas()\n",
    "    .set_index('department')\n",
    "    .plot.barh(width = 1, ec = 'lightgrey', alpha = .8, color = 'orange', figsize = (12,7))\n",
    ")\n",
    "plt.title(\"How long do the departments take get stuff done?\", fontsize = 17)\n",
    "plt.xlabel(\"Number of Days\")\n",
    "plt.ylabel(\"Department\")\n",
    "plt.show()"
   ]
  },
  {
   "cell_type": "code",
   "execution_count": null,
   "id": "6073fc1d-e7f6-4025-bbf1-13299046c820",
   "metadata": {},
   "outputs": [],
   "source": [
    "# What is the service type that is the most late? Just for Parks & Rec?"
   ]
  },
  {
   "cell_type": "code",
   "execution_count": null,
   "id": "1a4bbf83-5e58-49e4-bed8-b3588e23da72",
   "metadata": {},
   "outputs": [],
   "source": [
    "# For the DSD/Code Enforcement department, what are the most common service request types?"
   ]
  },
  {
   "cell_type": "code",
   "execution_count": null,
   "id": "d80d8565-24bd-4e09-b6c4-3e38638f6f4e",
   "metadata": {},
   "outputs": [],
   "source": [
    "# Does whether or not its a weekend matter for when a case is opened/closed?"
   ]
  },
  {
   "cell_type": "code",
   "execution_count": null,
   "id": "493dde8e-f69e-48cd-b610-30839b594168",
   "metadata": {},
   "outputs": [],
   "source": [
    "# On average, how many cases are opened a day for the Customer Service department?"
   ]
  },
  {
   "cell_type": "code",
   "execution_count": null,
   "id": "948f3b8a-c621-4c51-a836-c87c4f89dee9",
   "metadata": {},
   "outputs": [],
   "source": [
    "# Does the number of service requests for the solid waste department vary by day of the week?"
   ]
  }
 ],
 "metadata": {
  "kernelspec": {
   "display_name": "Python 3 (ipykernel)",
   "language": "python",
   "name": "python3"
  },
  "language_info": {
   "codemirror_mode": {
    "name": "ipython",
    "version": 3
   },
   "file_extension": ".py",
   "mimetype": "text/x-python",
   "name": "python",
   "nbconvert_exporter": "python",
   "pygments_lexer": "ipython3",
   "version": "3.9.7"
  }
 },
 "nbformat": 4,
 "nbformat_minor": 5
}
