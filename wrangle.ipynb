{
 "cells": [
  {
   "cell_type": "markdown",
   "id": "da017ba6-fa7e-4a22-9ba4-c5a12a1a350b",
   "metadata": {},
   "source": [
    "## Wrangle Data in Spark"
   ]
  },
  {
   "cell_type": "code",
   "execution_count": 1,
   "id": "7065a04c-02df-460d-a97b-d569299915f0",
   "metadata": {},
   "outputs": [
    {
     "name": "stderr",
     "output_type": "stream",
     "text": [
      "WARNING: An illegal reflective access operation has occurred\n",
      "WARNING: Illegal reflective access by org.apache.spark.unsafe.Platform (file:/usr/local/anaconda3/lib/python3.9/site-packages/pyspark/jars/spark-unsafe_2.12-3.2.1.jar) to constructor java.nio.DirectByteBuffer(long,int)\n",
      "WARNING: Please consider reporting this to the maintainers of org.apache.spark.unsafe.Platform\n",
      "WARNING: Use --illegal-access=warn to enable warnings of further illegal reflective access operations\n",
      "WARNING: All illegal access operations will be denied in a future release\n",
      "Using Spark's default log4j profile: org/apache/spark/log4j-defaults.properties\n",
      "Setting default log level to \"WARN\".\n",
      "To adjust logging level use sc.setLogLevel(newLevel). For SparkR, use setLogLevel(newLevel).\n",
      "22/05/20 13:42:02 WARN NativeCodeLoader: Unable to load native-hadoop library for your platform... using builtin-java classes where applicable\n"
     ]
    }
   ],
   "source": [
    "from pyspark.sql import SparkSession\n",
    "from pyspark.sql.functions import *\n",
    " \n",
    "spark = SparkSession.builder.getOrCreate()\n",
    "\n",
    "import numpy as np\n",
    "import pandas as pd"
   ]
  },
  {
   "cell_type": "markdown",
   "id": "12f40054-7a3f-4b23-9455-219b7cbfb436",
   "metadata": {},
   "source": [
    "### Data Acquisition\n",
    "\n",
    "These exercises should go in a notebook or script named wrangle. Add, commit, and push your changes.\n",
    "\n",
    "This exercises uses the case.csv, dept.csv, and source.csv files from the san antonio 311 call dataset.\n",
    "\n",
    "1. Read the case, department, and source data into their own spark dataframes.\n",
    " \n",
    "2. Let's see how writing to the local disk works in spark:\n",
    "\n",
    "  - Write the code necessary to store the source data in both csv and json format, store these as sources_csv and sources_json\n",
    "  - Inspect your folder structure. What do you notice?\n",
    "  \n",
    "3. Inspect the data in your dataframes. Are the data types appropriate? Write the code necessary to cast the values to the appropriate types.\n",
    "\n",
    "***"
   ]
  },
  {
   "cell_type": "code",
   "execution_count": 2,
   "id": "9b902871-3a6b-44ee-a237-97db962f0bd6",
   "metadata": {},
   "outputs": [
    {
     "name": "stderr",
     "output_type": "stream",
     "text": [
      "                                                                                \r"
     ]
    }
   ],
   "source": [
    "# Read the case, department, and source data into their own spark dataframes.\n",
    "case = spark.read.csv(\"case.csv\", sep=\",\", header=True, inferSchema=True)\n",
    "\n",
    "dept = spark.read.csv(\"dept.csv\", sep=\",\", header=True, inferSchema=True)\n",
    "\n",
    "source = spark.read.csv(\"source.csv\", sep=\",\", header=True, inferSchema=True)"
   ]
  },
  {
   "cell_type": "code",
   "execution_count": 4,
   "id": "f8dff997-d3b5-42b4-80bd-928037641d8c",
   "metadata": {},
   "outputs": [],
   "source": [
    "# write the code necessary to store the source data in both csv and json format, \n",
    "# store these as sources_csv and sources_json\n",
    "\n",
    "# write to csv\n",
    "source.write.csv(\"sources_csv\", mode=\"overwrite\")\n",
    "\n",
    "# write to json\n",
    "source.write.json(\"sources_json\", mode=\"overwrite\")"
   ]
  },
  {
   "cell_type": "code",
   "execution_count": 5,
   "id": "0370bfd2-0b37-4aff-9d5f-a9c2163f1893",
   "metadata": {},
   "outputs": [
    {
     "data": {
      "text/plain": [
       "[('source_id', 'string'), ('source_username', 'string')]"
      ]
     },
     "execution_count": 5,
     "metadata": {},
     "output_type": "execute_result"
    }
   ],
   "source": [
    "# Inspect the data in your dataframes. Are the data types appropriate? \n",
    "# Write the code necessary to cast the values to the appropriate types.\n",
    "\n",
    "source.dtypes"
   ]
  },
  {
   "cell_type": "code",
   "execution_count": 6,
   "id": "7857f43b-0eae-41e7-804a-e89e2bfdaed5",
   "metadata": {},
   "outputs": [
    {
     "name": "stdout",
     "output_type": "stream",
     "text": [
      "+---------+----------------+\n",
      "|source_id| source_username|\n",
      "+---------+----------------+\n",
      "|   100137|Merlene Blodgett|\n",
      "|   103582|     Carmen Cura|\n",
      "|   106463| Richard Sanchez|\n",
      "|   119403|  Betty De Hoyos|\n",
      "|   119555|  Socorro Quiara|\n",
      "+---------+----------------+\n",
      "only showing top 5 rows\n",
      "\n"
     ]
    }
   ],
   "source": [
    "source.show(5)\n",
    "# appropriate dtypes"
   ]
  },
  {
   "cell_type": "code",
   "execution_count": 8,
   "id": "6a8f1630-bee2-489d-8130-05feb5cf8724",
   "metadata": {},
   "outputs": [
    {
     "name": "stdout",
     "output_type": "stream",
     "text": [
      "[('dept_division', 'string'), ('dept_name', 'string'), ('standardized_dept_name', 'string'), ('dept_subject_to_SLA', 'string')]\n",
      "+--------------------+--------------------+----------------------+-------------------+\n",
      "|       dept_division|           dept_name|standardized_dept_name|dept_subject_to_SLA|\n",
      "+--------------------+--------------------+----------------------+-------------------+\n",
      "|     311 Call Center|    Customer Service|      Customer Service|                YES|\n",
      "|               Brush|Solid Waste Manag...|           Solid Waste|                YES|\n",
      "|     Clean and Green|Parks and Recreation|    Parks & Recreation|                YES|\n",
      "|Clean and Green N...|Parks and Recreation|    Parks & Recreation|                YES|\n",
      "|    Code Enforcement|Code Enforcement ...|  DSD/Code Enforcement|                YES|\n",
      "+--------------------+--------------------+----------------------+-------------------+\n",
      "only showing top 5 rows\n",
      "\n"
     ]
    }
   ],
   "source": [
    "print(dept.dtypes)\n",
    "dept.show(5)\n",
    "# all are technically appropriate. However, there would be more usefulness in converting\n",
    "# the final column to a boolean type. "
   ]
  },
  {
   "cell_type": "code",
   "execution_count": 9,
   "id": "ed424852-f2d1-41c4-bde2-7ecff8886126",
   "metadata": {},
   "outputs": [
    {
     "name": "stdout",
     "output_type": "stream",
     "text": [
      "+--------------------+--------------------+----------------------+-------------------+\n",
      "|       dept_division|           dept_name|standardized_dept_name|dept_subject_to_SLA|\n",
      "+--------------------+--------------------+----------------------+-------------------+\n",
      "|     311 Call Center|    Customer Service|      Customer Service|               true|\n",
      "|               Brush|Solid Waste Manag...|           Solid Waste|               true|\n",
      "|     Clean and Green|Parks and Recreation|    Parks & Recreation|               true|\n",
      "|Clean and Green N...|Parks and Recreation|    Parks & Recreation|               true|\n",
      "|    Code Enforcement|Code Enforcement ...|  DSD/Code Enforcement|               true|\n",
      "+--------------------+--------------------+----------------------+-------------------+\n",
      "only showing top 5 rows\n",
      "\n"
     ]
    }
   ],
   "source": [
    "# string to boolean conversion\n",
    "dept = dept.withColumn('dept_subject_to_SLA', expr('dept_subject_to_SLA == \"YES\"'))\n",
    "\n",
    "dept.show(5)"
   ]
  },
  {
   "cell_type": "code",
   "execution_count": 14,
   "id": "51c2cf56-644b-4b98-bbf5-a6c704cc7853",
   "metadata": {},
   "outputs": [],
   "source": [
    "def display(spark_df, rows=5):\n",
    "    '''takes in a spark dataframe and displays a given number of rows using pandas formatting (for convenience)'''\n",
    "    return spark_df.limit(rows).toPandas()"
   ]
  },
  {
   "cell_type": "code",
   "execution_count": 15,
   "id": "656bbb7e-4573-427b-902d-68c41f85aaa4",
   "metadata": {},
   "outputs": [
    {
     "name": "stdout",
     "output_type": "stream",
     "text": [
      "[('case_id', 'int'), ('case_opened_date', 'string'), ('case_closed_date', 'string'), ('SLA_due_date', 'string'), ('case_late', 'string'), ('num_days_late', 'double'), ('case_closed', 'string'), ('dept_division', 'string'), ('service_request_type', 'string'), ('SLA_days', 'double'), ('case_status', 'string'), ('source_id', 'string'), ('request_address', 'string'), ('council_district', 'int')]\n"
     ]
    },
    {
     "data": {
      "text/html": [
       "<div><div id=3fceff5b-c1ee-4d0a-b354-4fb25e9be94b style=\"display:none; background-color:#9D6CFF; color:white; width:200px; height:30px; padding-left:5px; border-radius:4px; flex-direction:row; justify-content:space-around; align-items:center;\" onmouseover=\"this.style.backgroundColor='#BA9BF8'\" onmouseout=\"this.style.backgroundColor='#9D6CFF'\" onclick=\"window.commands?.execute('create-mitosheet-from-dataframe-output');\">See Full Dataframe in Mito</div> <script> if (window.commands?.hasCommand('create-mitosheet-from-dataframe-output')) document.getElementById('3fceff5b-c1ee-4d0a-b354-4fb25e9be94b').style.display = 'flex' </script> <table border=\"1\" class=\"dataframe\">\n",
       "  <thead>\n",
       "    <tr style=\"text-align: right;\">\n",
       "      <th></th>\n",
       "      <th>case_id</th>\n",
       "      <th>case_opened_date</th>\n",
       "      <th>case_closed_date</th>\n",
       "      <th>SLA_due_date</th>\n",
       "      <th>case_late</th>\n",
       "      <th>num_days_late</th>\n",
       "      <th>case_closed</th>\n",
       "      <th>dept_division</th>\n",
       "      <th>service_request_type</th>\n",
       "      <th>SLA_days</th>\n",
       "      <th>case_status</th>\n",
       "      <th>source_id</th>\n",
       "      <th>request_address</th>\n",
       "      <th>council_district</th>\n",
       "    </tr>\n",
       "  </thead>\n",
       "  <tbody>\n",
       "    <tr>\n",
       "      <th>0</th>\n",
       "      <td>1014127332</td>\n",
       "      <td>1/1/18 0:42</td>\n",
       "      <td>1/1/18 12:29</td>\n",
       "      <td>9/26/20 0:42</td>\n",
       "      <td>NO</td>\n",
       "      <td>-998.508762</td>\n",
       "      <td>YES</td>\n",
       "      <td>Field Operations</td>\n",
       "      <td>Stray Animal</td>\n",
       "      <td>999.000000</td>\n",
       "      <td>Closed</td>\n",
       "      <td>svcCRMLS</td>\n",
       "      <td>2315  EL PASO ST, San Antonio, 78207</td>\n",
       "      <td>5</td>\n",
       "    </tr>\n",
       "    <tr>\n",
       "      <th>1</th>\n",
       "      <td>1014127333</td>\n",
       "      <td>1/1/18 0:46</td>\n",
       "      <td>1/3/18 8:11</td>\n",
       "      <td>1/5/18 8:30</td>\n",
       "      <td>NO</td>\n",
       "      <td>-2.012604</td>\n",
       "      <td>YES</td>\n",
       "      <td>Storm Water</td>\n",
       "      <td>Removal Of Obstruction</td>\n",
       "      <td>4.322222</td>\n",
       "      <td>Closed</td>\n",
       "      <td>svcCRMSS</td>\n",
       "      <td>2215  GOLIAD RD, San Antonio, 78223</td>\n",
       "      <td>3</td>\n",
       "    </tr>\n",
       "    <tr>\n",
       "      <th>2</th>\n",
       "      <td>1014127334</td>\n",
       "      <td>1/1/18 0:48</td>\n",
       "      <td>1/2/18 7:57</td>\n",
       "      <td>1/5/18 8:30</td>\n",
       "      <td>NO</td>\n",
       "      <td>-3.022338</td>\n",
       "      <td>YES</td>\n",
       "      <td>Storm Water</td>\n",
       "      <td>Removal Of Obstruction</td>\n",
       "      <td>4.320729</td>\n",
       "      <td>Closed</td>\n",
       "      <td>svcCRMSS</td>\n",
       "      <td>102  PALFREY ST W, San Antonio, 78223</td>\n",
       "      <td>3</td>\n",
       "    </tr>\n",
       "    <tr>\n",
       "      <th>3</th>\n",
       "      <td>1014127335</td>\n",
       "      <td>1/1/18 1:29</td>\n",
       "      <td>1/2/18 8:13</td>\n",
       "      <td>1/17/18 8:30</td>\n",
       "      <td>NO</td>\n",
       "      <td>-15.011481</td>\n",
       "      <td>YES</td>\n",
       "      <td>Code Enforcement</td>\n",
       "      <td>Front Or Side Yard Parking</td>\n",
       "      <td>16.291887</td>\n",
       "      <td>Closed</td>\n",
       "      <td>svcCRMSS</td>\n",
       "      <td>114  LA GARDE ST, San Antonio, 78223</td>\n",
       "      <td>3</td>\n",
       "    </tr>\n",
       "    <tr>\n",
       "      <th>4</th>\n",
       "      <td>1014127336</td>\n",
       "      <td>1/1/18 1:34</td>\n",
       "      <td>1/1/18 13:29</td>\n",
       "      <td>1/1/18 4:34</td>\n",
       "      <td>YES</td>\n",
       "      <td>0.372164</td>\n",
       "      <td>YES</td>\n",
       "      <td>Field Operations</td>\n",
       "      <td>Animal Cruelty(Critical)</td>\n",
       "      <td>0.125000</td>\n",
       "      <td>Closed</td>\n",
       "      <td>svcCRMSS</td>\n",
       "      <td>734  CLEARVIEW DR, San Antonio, 78228</td>\n",
       "      <td>7</td>\n",
       "    </tr>\n",
       "  </tbody>\n",
       "</table></div>"
      ],
      "text/plain": [
       "      case_id case_opened_date case_closed_date  SLA_due_date case_late  \\\n",
       "0  1014127332      1/1/18 0:42     1/1/18 12:29  9/26/20 0:42        NO   \n",
       "1  1014127333      1/1/18 0:46      1/3/18 8:11   1/5/18 8:30        NO   \n",
       "2  1014127334      1/1/18 0:48      1/2/18 7:57   1/5/18 8:30        NO   \n",
       "3  1014127335      1/1/18 1:29      1/2/18 8:13  1/17/18 8:30        NO   \n",
       "4  1014127336      1/1/18 1:34     1/1/18 13:29   1/1/18 4:34       YES   \n",
       "\n",
       "   num_days_late case_closed     dept_division        service_request_type  \\\n",
       "0    -998.508762         YES  Field Operations                Stray Animal   \n",
       "1      -2.012604         YES       Storm Water      Removal Of Obstruction   \n",
       "2      -3.022338         YES       Storm Water      Removal Of Obstruction   \n",
       "3     -15.011481         YES  Code Enforcement  Front Or Side Yard Parking   \n",
       "4       0.372164         YES  Field Operations    Animal Cruelty(Critical)   \n",
       "\n",
       "     SLA_days case_status source_id                        request_address  \\\n",
       "0  999.000000      Closed  svcCRMLS   2315  EL PASO ST, San Antonio, 78207   \n",
       "1    4.322222      Closed  svcCRMSS    2215  GOLIAD RD, San Antonio, 78223   \n",
       "2    4.320729      Closed  svcCRMSS  102  PALFREY ST W, San Antonio, 78223   \n",
       "3   16.291887      Closed  svcCRMSS   114  LA GARDE ST, San Antonio, 78223   \n",
       "4    0.125000      Closed  svcCRMSS  734  CLEARVIEW DR, San Antonio, 78228   \n",
       "\n",
       "   council_district  \n",
       "0                 5  \n",
       "1                 3  \n",
       "2                 3  \n",
       "3                 3  \n",
       "4                 7  "
      ]
     },
     "execution_count": 15,
     "metadata": {},
     "output_type": "execute_result"
    }
   ],
   "source": [
    "print(case.dtypes)\n",
    "display(case)"
   ]
  },
  {
   "cell_type": "code",
   "execution_count": 3,
   "id": "d663dbad-5c30-454e-98c4-7aefa74a83e6",
   "metadata": {},
   "outputs": [
    {
     "name": "stdout",
     "output_type": "stream",
     "text": [
      "+-----------+---------+\n",
      "|case_closed|case_late|\n",
      "+-----------+---------+\n",
      "|       true|    false|\n",
      "|       true|    false|\n",
      "|       true|    false|\n",
      "|       true|    false|\n",
      "|       true|     true|\n",
      "+-----------+---------+\n",
      "only showing top 5 rows\n",
      "\n"
     ]
    }
   ],
   "source": [
    "# change case closed and case late to bool values\n",
    "case = case.withColumn(\"case_closed\", expr('case_closed == \"YES\"')).withColumn(\n",
    "    \"case_late\", expr('case_late == \"YES\"')\n",
    ")\n",
    "\n",
    "case.select(\"case_closed\", \"case_late\").show(5)"
   ]
  },
  {
   "cell_type": "code",
   "execution_count": 4,
   "id": "ad66a3d6-d059-4a63-97b2-409651beb531",
   "metadata": {},
   "outputs": [],
   "source": [
    "# convert council_district to a string since it's a unique identifier.\n",
    "case = case.withColumn(\"council_district\", col(\"council_district\").cast(\"string\"))\n",
    "# same with case_id\n",
    "case = case.withColumn(\"case_id\", col(\"case_id\").cast(\"string\"))"
   ]
  },
  {
   "cell_type": "code",
   "execution_count": 9,
   "id": "b625b717-4937-4e93-ade9-995e61b594a4",
   "metadata": {},
   "outputs": [
    {
     "ename": "AnalysisException",
     "evalue": "cannot resolve 'case_due_date' given input columns: [SLA_days, SLA_due_date, case_closed, case_closed_date, case_id, case_late, case_opened_date, case_status, council_district, dept_division, num_days_late, request_address, service_request_type, source_id];\n'Project [case_id#146, case_opened_date#161, case_closed_date#176, SLA_due_date#19, case_late#103, num_days_late#21, case_closed#88, dept_division#23, service_request_type#24, SLA_days#25, case_status#26, source_id#27, request_address#28, council_district#131, to_timestamp('case_due_date, Some(M/d/yy H:mm)) AS case_due_date#191]\n+- Project [case_id#146, case_opened_date#161, to_timestamp('case_closed_date, Some(M/d/yy H:mm)) AS case_closed_date#176, SLA_due_date#19, case_late#103, num_days_late#21, case_closed#88, dept_division#23, service_request_type#24, SLA_days#25, case_status#26, source_id#27, request_address#28, council_district#131]\n   +- Project [case_id#146, to_timestamp('case_opened_date, Some(M/d/yy H:mm)) AS case_opened_date#161, case_closed_date#18, SLA_due_date#19, case_late#103, num_days_late#21, case_closed#88, dept_division#23, service_request_type#24, SLA_days#25, case_status#26, source_id#27, request_address#28, council_district#131]\n      +- Project [cast(case_id#16 as string) AS case_id#146, case_opened_date#17, case_closed_date#18, SLA_due_date#19, case_late#103, num_days_late#21, case_closed#88, dept_division#23, service_request_type#24, SLA_days#25, case_status#26, source_id#27, request_address#28, council_district#131]\n         +- Project [case_id#16, case_opened_date#17, case_closed_date#18, SLA_due_date#19, case_late#103, num_days_late#21, case_closed#88, dept_division#23, service_request_type#24, SLA_days#25, case_status#26, source_id#27, request_address#28, cast(council_district#29 as string) AS council_district#131]\n            +- Project [case_id#16, case_opened_date#17, case_closed_date#18, SLA_due_date#19, (case_late#20 = YES) AS case_late#103, num_days_late#21, case_closed#88, dept_division#23, service_request_type#24, SLA_days#25, case_status#26, source_id#27, request_address#28, council_district#29]\n               +- Project [case_id#16, case_opened_date#17, case_closed_date#18, SLA_due_date#19, case_late#20, num_days_late#21, (case_closed#22 = YES) AS case_closed#88, dept_division#23, service_request_type#24, SLA_days#25, case_status#26, source_id#27, request_address#28, council_district#29]\n                  +- Relation [case_id#16,case_opened_date#17,case_closed_date#18,SLA_due_date#19,case_late#20,num_days_late#21,case_closed#22,dept_division#23,service_request_type#24,SLA_days#25,case_status#26,source_id#27,request_address#28,council_district#29] csv\n",
     "output_type": "error",
     "traceback": [
      "\u001b[0;31m---------------------------------------------------------------------------\u001b[0m",
      "\u001b[0;31mAnalysisException\u001b[0m                         Traceback (most recent call last)",
      "\u001b[0;32m/var/folders/qn/sd1_3x2j4196db03067vql600000gn/T/ipykernel_33117/3944297317.py\u001b[0m in \u001b[0;36m<module>\u001b[0;34m\u001b[0m\n\u001b[1;32m      3\u001b[0m \u001b[0;34m\u001b[0m\u001b[0m\n\u001b[1;32m      4\u001b[0m \u001b[0mfmt\u001b[0m \u001b[0;34m=\u001b[0m \u001b[0;34m\"M/d/yy H:mm\"\u001b[0m\u001b[0;34m\u001b[0m\u001b[0;34m\u001b[0m\u001b[0m\n\u001b[0;32m----> 5\u001b[0;31m case = (case.withColumn(\"case_opened_date\", to_timestamp(\"case_opened_date\", fmt)).withColumn\\\n\u001b[0m\u001b[1;32m      6\u001b[0m       \u001b[0;34m(\u001b[0m\u001b[0;34m\"case_closed_date\"\u001b[0m\u001b[0;34m,\u001b[0m \u001b[0mto_timestamp\u001b[0m\u001b[0;34m(\u001b[0m\u001b[0;34m\"case_closed_date\"\u001b[0m\u001b[0;34m,\u001b[0m \u001b[0mfmt\u001b[0m\u001b[0;34m)\u001b[0m\u001b[0;34m)\u001b[0m\u001b[0;34m.\u001b[0m\u001b[0mwithColumn\u001b[0m\u001b[0;31m\\\u001b[0m\u001b[0;34m\u001b[0m\u001b[0;34m\u001b[0m\u001b[0m\n\u001b[1;32m      7\u001b[0m       \u001b[0;34m(\u001b[0m\u001b[0;34m\"case_due_date\"\u001b[0m\u001b[0;34m,\u001b[0m \u001b[0mto_timestamp\u001b[0m\u001b[0;34m(\u001b[0m\u001b[0;34m\"case_due_date\"\u001b[0m\u001b[0;34m,\u001b[0m \u001b[0mfmt\u001b[0m\u001b[0;34m)\u001b[0m\u001b[0;34m)\u001b[0m\u001b[0;34m\u001b[0m\u001b[0;34m\u001b[0m\u001b[0m\n",
      "\u001b[0;32m/usr/local/anaconda3/lib/python3.9/site-packages/pyspark/sql/dataframe.py\u001b[0m in \u001b[0;36mwithColumn\u001b[0;34m(self, colName, col)\u001b[0m\n\u001b[1;32m   2476\u001b[0m         \u001b[0;32mif\u001b[0m \u001b[0;32mnot\u001b[0m \u001b[0misinstance\u001b[0m\u001b[0;34m(\u001b[0m\u001b[0mcol\u001b[0m\u001b[0;34m,\u001b[0m \u001b[0mColumn\u001b[0m\u001b[0;34m)\u001b[0m\u001b[0;34m:\u001b[0m\u001b[0;34m\u001b[0m\u001b[0;34m\u001b[0m\u001b[0m\n\u001b[1;32m   2477\u001b[0m             \u001b[0;32mraise\u001b[0m \u001b[0mTypeError\u001b[0m\u001b[0;34m(\u001b[0m\u001b[0;34m\"col should be Column\"\u001b[0m\u001b[0;34m)\u001b[0m\u001b[0;34m\u001b[0m\u001b[0;34m\u001b[0m\u001b[0m\n\u001b[0;32m-> 2478\u001b[0;31m         \u001b[0;32mreturn\u001b[0m \u001b[0mDataFrame\u001b[0m\u001b[0;34m(\u001b[0m\u001b[0mself\u001b[0m\u001b[0;34m.\u001b[0m\u001b[0m_jdf\u001b[0m\u001b[0;34m.\u001b[0m\u001b[0mwithColumn\u001b[0m\u001b[0;34m(\u001b[0m\u001b[0mcolName\u001b[0m\u001b[0;34m,\u001b[0m \u001b[0mcol\u001b[0m\u001b[0;34m.\u001b[0m\u001b[0m_jc\u001b[0m\u001b[0;34m)\u001b[0m\u001b[0;34m,\u001b[0m \u001b[0mself\u001b[0m\u001b[0;34m.\u001b[0m\u001b[0msql_ctx\u001b[0m\u001b[0;34m)\u001b[0m\u001b[0;34m\u001b[0m\u001b[0;34m\u001b[0m\u001b[0m\n\u001b[0m\u001b[1;32m   2479\u001b[0m \u001b[0;34m\u001b[0m\u001b[0m\n\u001b[1;32m   2480\u001b[0m     \u001b[0;32mdef\u001b[0m \u001b[0mwithColumnRenamed\u001b[0m\u001b[0;34m(\u001b[0m\u001b[0mself\u001b[0m\u001b[0;34m,\u001b[0m \u001b[0mexisting\u001b[0m\u001b[0;34m,\u001b[0m \u001b[0mnew\u001b[0m\u001b[0;34m)\u001b[0m\u001b[0;34m:\u001b[0m\u001b[0;34m\u001b[0m\u001b[0;34m\u001b[0m\u001b[0m\n",
      "\u001b[0;32m/usr/local/anaconda3/lib/python3.9/site-packages/py4j/java_gateway.py\u001b[0m in \u001b[0;36m__call__\u001b[0;34m(self, *args)\u001b[0m\n\u001b[1;32m   1319\u001b[0m \u001b[0;34m\u001b[0m\u001b[0m\n\u001b[1;32m   1320\u001b[0m         \u001b[0manswer\u001b[0m \u001b[0;34m=\u001b[0m \u001b[0mself\u001b[0m\u001b[0;34m.\u001b[0m\u001b[0mgateway_client\u001b[0m\u001b[0;34m.\u001b[0m\u001b[0msend_command\u001b[0m\u001b[0;34m(\u001b[0m\u001b[0mcommand\u001b[0m\u001b[0;34m)\u001b[0m\u001b[0;34m\u001b[0m\u001b[0;34m\u001b[0m\u001b[0m\n\u001b[0;32m-> 1321\u001b[0;31m         return_value = get_return_value(\n\u001b[0m\u001b[1;32m   1322\u001b[0m             answer, self.gateway_client, self.target_id, self.name)\n\u001b[1;32m   1323\u001b[0m \u001b[0;34m\u001b[0m\u001b[0m\n",
      "\u001b[0;32m/usr/local/anaconda3/lib/python3.9/site-packages/pyspark/sql/utils.py\u001b[0m in \u001b[0;36mdeco\u001b[0;34m(*a, **kw)\u001b[0m\n\u001b[1;32m    115\u001b[0m                 \u001b[0;31m# Hide where the exception came from that shows a non-Pythonic\u001b[0m\u001b[0;34m\u001b[0m\u001b[0;34m\u001b[0m\u001b[0m\n\u001b[1;32m    116\u001b[0m                 \u001b[0;31m# JVM exception message.\u001b[0m\u001b[0;34m\u001b[0m\u001b[0;34m\u001b[0m\u001b[0m\n\u001b[0;32m--> 117\u001b[0;31m                 \u001b[0;32mraise\u001b[0m \u001b[0mconverted\u001b[0m \u001b[0;32mfrom\u001b[0m \u001b[0;32mNone\u001b[0m\u001b[0;34m\u001b[0m\u001b[0;34m\u001b[0m\u001b[0m\n\u001b[0m\u001b[1;32m    118\u001b[0m             \u001b[0;32melse\u001b[0m\u001b[0;34m:\u001b[0m\u001b[0;34m\u001b[0m\u001b[0;34m\u001b[0m\u001b[0m\n\u001b[1;32m    119\u001b[0m                 \u001b[0;32mraise\u001b[0m\u001b[0;34m\u001b[0m\u001b[0;34m\u001b[0m\u001b[0m\n",
      "\u001b[0;31mAnalysisException\u001b[0m: cannot resolve 'case_due_date' given input columns: [SLA_days, SLA_due_date, case_closed, case_closed_date, case_id, case_late, case_opened_date, case_status, council_district, dept_division, num_days_late, request_address, service_request_type, source_id];\n'Project [case_id#146, case_opened_date#161, case_closed_date#176, SLA_due_date#19, case_late#103, num_days_late#21, case_closed#88, dept_division#23, service_request_type#24, SLA_days#25, case_status#26, source_id#27, request_address#28, council_district#131, to_timestamp('case_due_date, Some(M/d/yy H:mm)) AS case_due_date#191]\n+- Project [case_id#146, case_opened_date#161, to_timestamp('case_closed_date, Some(M/d/yy H:mm)) AS case_closed_date#176, SLA_due_date#19, case_late#103, num_days_late#21, case_closed#88, dept_division#23, service_request_type#24, SLA_days#25, case_status#26, source_id#27, request_address#28, council_district#131]\n   +- Project [case_id#146, to_timestamp('case_opened_date, Some(M/d/yy H:mm)) AS case_opened_date#161, case_closed_date#18, SLA_due_date#19, case_late#103, num_days_late#21, case_closed#88, dept_division#23, service_request_type#24, SLA_days#25, case_status#26, source_id#27, request_address#28, council_district#131]\n      +- Project [cast(case_id#16 as string) AS case_id#146, case_opened_date#17, case_closed_date#18, SLA_due_date#19, case_late#103, num_days_late#21, case_closed#88, dept_division#23, service_request_type#24, SLA_days#25, case_status#26, source_id#27, request_address#28, council_district#131]\n         +- Project [case_id#16, case_opened_date#17, case_closed_date#18, SLA_due_date#19, case_late#103, num_days_late#21, case_closed#88, dept_division#23, service_request_type#24, SLA_days#25, case_status#26, source_id#27, request_address#28, cast(council_district#29 as string) AS council_district#131]\n            +- Project [case_id#16, case_opened_date#17, case_closed_date#18, SLA_due_date#19, (case_late#20 = YES) AS case_late#103, num_days_late#21, case_closed#88, dept_division#23, service_request_type#24, SLA_days#25, case_status#26, source_id#27, request_address#28, council_district#29]\n               +- Project [case_id#16, case_opened_date#17, case_closed_date#18, SLA_due_date#19, case_late#20, num_days_late#21, (case_closed#22 = YES) AS case_closed#88, dept_division#23, service_request_type#24, SLA_days#25, case_status#26, source_id#27, request_address#28, council_district#29]\n                  +- Relation [case_id#16,case_opened_date#17,case_closed_date#18,SLA_due_date#19,case_late#20,num_days_late#21,case_closed#22,dept_division#23,service_request_type#24,SLA_days#25,case_status#26,source_id#27,request_address#28,council_district#29] csv\n"
     ]
    }
   ],
   "source": [
    "##print(\"--- Before handling dates\")\n",
    "##case.select(\"case_opened_date\", \"case_closed_date\", \"case_due_date\").show(5)\n",
    "#\n",
    "#fmt = \"M/d/yy H:mm\"\n",
    "#case = (case.withColumn(\"case_opened_date\", to_timestamp(\"case_opened_date\", fmt)).withColumn\\\n",
    "#      (\"case_closed_date\", to_timestamp(\"case_closed_date\", fmt)).withColumn\\\n",
    "#      (\"case_due_date\", to_timestamp(\"case_due_date\", fmt))\n",
    "#)\n",
    "#\n",
    "#print(\"--- After\")\n",
    "#case.select(\"case_opened_date\", \"case_closed_date\", \"case_due_date\").show(5)"
   ]
  },
  {
   "cell_type": "markdown",
   "id": "52dd50b5-8aeb-44ed-be96-5f71990a092c",
   "metadata": {},
   "source": [
    "***\n",
    "1. How old is the latest (in terms of days past SLA) currently open issue? How long has the oldest (in terms of days since opened) currently opened issue been open?\n",
    "1. How many Stray Animal cases are there?\n",
    "1. How many service requests that are assigned to the Field Operations department (dept_division) are not classified as \"Officer Standby\" request type (service_request_type)?\n",
    "1. Convert the council_district column to a string column.\n",
    "1. Extract the year from the case_closed_date column.\n",
    "1. Convert num_days_late from days to hours in new columns num_hours_late.\n",
    "1. Join the case data with the source and department data.\n",
    "1. Are there any cases that do not have a request source?\n",
    "1. What are the top 10 service request types in terms of number of requests?\n",
    "1. What are the top 10 service request types in terms of average days late?\n",
    "1. Does number of days late depend on department?\n",
    "1. How do number of days late depend on department and request type?"
   ]
  },
  {
   "cell_type": "code",
   "execution_count": null,
   "id": "9cdcee5d-c01f-454b-9c67-9abbce16cdf2",
   "metadata": {},
   "outputs": [],
   "source": [
    "# 1. How old is the latest (in terms of days past SLA) currently open issue? \n",
    "#.  How long has the oldest (in terms of days since opened) currently opened issue been open?"
   ]
  },
  {
   "cell_type": "code",
   "execution_count": 10,
   "id": "1935dc71-5ef5-457b-bedc-ba71e405ddcf",
   "metadata": {},
   "outputs": [
    {
     "name": "stderr",
     "output_type": "stream",
     "text": [
      "                                                                                \r"
     ]
    },
    {
     "data": {
      "text/plain": [
       "26760"
      ]
     },
     "execution_count": 10,
     "metadata": {},
     "output_type": "execute_result"
    }
   ],
   "source": [
    "# 2. How many Stray Animal cases are there?\n",
    "# total cases of stray animal\n",
    "case.filter(case.service_request_type == 'Stray Animal').count()"
   ]
  },
  {
   "cell_type": "code",
   "execution_count": 11,
   "id": "d3c0e304-ba70-49b8-be37-54cbafea4267",
   "metadata": {},
   "outputs": [
    {
     "name": "stderr",
     "output_type": "stream",
     "text": [
      "                                                                                \r"
     ]
    },
    {
     "data": {
      "text/plain": [
       "113902"
      ]
     },
     "execution_count": 11,
     "metadata": {},
     "output_type": "execute_result"
    }
   ],
   "source": [
    "# 3. How many service requests that are assigned to the Field Operations department (dept_division)\n",
    "#.   are not classified as \"Officer Standby\" request type (service_request_type)?\n",
    "case.filter(case.dept_division == \"Field Operations\")\\\n",
    ".where(case.service_request_type != 'Officer Standby').count()"
   ]
  },
  {
   "cell_type": "code",
   "execution_count": 12,
   "id": "4f6619a6-7c75-4afa-8c77-7f3e57e0fab5",
   "metadata": {},
   "outputs": [],
   "source": [
    "# 4. Convert the council_district column to a string column.\n",
    "case = case.withColumn('council_district', col('council_district').cast('string'))"
   ]
  },
  {
   "cell_type": "code",
   "execution_count": 13,
   "id": "48f17010-bd18-49b6-b467-e9037f9d29e4",
   "metadata": {},
   "outputs": [
    {
     "data": {
      "text/plain": [
       "[('case_id', 'string'),\n",
       " ('case_opened_date', 'string'),\n",
       " ('case_closed_date', 'string'),\n",
       " ('SLA_due_date', 'string'),\n",
       " ('case_late', 'boolean'),\n",
       " ('num_days_late', 'double'),\n",
       " ('case_closed', 'boolean'),\n",
       " ('dept_division', 'string'),\n",
       " ('service_request_type', 'string'),\n",
       " ('SLA_days', 'double'),\n",
       " ('case_status', 'string'),\n",
       " ('source_id', 'string'),\n",
       " ('request_address', 'string'),\n",
       " ('council_district', 'string')]"
      ]
     },
     "execution_count": 13,
     "metadata": {},
     "output_type": "execute_result"
    }
   ],
   "source": [
    "case.dtypes"
   ]
  },
  {
   "cell_type": "code",
   "execution_count": 14,
   "id": "fcb23e68-9f89-4771-b536-77880eded871",
   "metadata": {},
   "outputs": [
    {
     "name": "stdout",
     "output_type": "stream",
     "text": [
      "-RECORD 0----------------------------------------------------\n",
      " case_id              | 1014127332                           \n",
      " case_opened_date     | 1/1/18 0:42                          \n",
      " case_closed_date     | 1/1/18 12:29                         \n",
      " SLA_due_date         | 9/26/20 0:42                         \n",
      " case_late            | false                                \n",
      " num_days_late        | -998.5087616000001                   \n",
      " case_closed          | true                                 \n",
      " dept_division        | Field Operations                     \n",
      " service_request_type | Stray Animal                         \n",
      " SLA_days             | 999.0                                \n",
      " case_status          | Closed                               \n",
      " source_id            | svcCRMLS                             \n",
      " request_address      | 2315  EL PASO ST, San Antonio, 78207 \n",
      " council_district     | 5                                    \n",
      " case_closed_year     | null                                 \n",
      "-RECORD 1----------------------------------------------------\n",
      " case_id              | 1014127333                           \n",
      " case_opened_date     | 1/1/18 0:46                          \n",
      " case_closed_date     | 1/3/18 8:11                          \n",
      " SLA_due_date         | 1/5/18 8:30                          \n",
      " case_late            | false                                \n",
      " num_days_late        | -2.0126041669999997                  \n",
      " case_closed          | true                                 \n",
      " dept_division        | Storm Water                          \n",
      " service_request_type | Removal Of Obstruction               \n",
      " SLA_days             | 4.322222222                          \n",
      " case_status          | Closed                               \n",
      " source_id            | svcCRMSS                             \n",
      " request_address      | 2215  GOLIAD RD, San Antonio, 78223  \n",
      " council_district     | 3                                    \n",
      " case_closed_year     | null                                 \n",
      "only showing top 2 rows\n",
      "\n"
     ]
    }
   ],
   "source": [
    "# 5. Extract the year from the case_closed_date column.\n",
    "case = case.withColumn(\"case_closed_year\", year(\"case_closed_date\"))\n",
    "\n",
    "case.show(2, False, True)"
   ]
  },
  {
   "cell_type": "code",
   "execution_count": 15,
   "id": "417a85f4-852d-4cb6-880f-54ed6b3a99b0",
   "metadata": {},
   "outputs": [
    {
     "name": "stdout",
     "output_type": "stream",
     "text": [
      "+-------------------+-------------------+\n",
      "|      num_days_late|     num_hours_late|\n",
      "+-------------------+-------------------+\n",
      "| -998.5087616000001|     -23964.2102784|\n",
      "|-2.0126041669999997|-48.302500007999996|\n",
      "|       -3.022337963|      -72.536111112|\n",
      "|       -15.01148148|      -360.27555552|\n",
      "|0.37216435200000003|  8.931944448000001|\n",
      "+-------------------+-------------------+\n",
      "only showing top 5 rows\n",
      "\n"
     ]
    }
   ],
   "source": [
    "# 6. Convert num_days_late from days to hours in new columns num_hours_late.\n",
    "case = case.withColumn('num_hours_late', expr('num_days_late*24'))\n",
    "\n",
    "case.select(\"num_days_late\", \"num_hours_late\").show(5)"
   ]
  },
  {
   "cell_type": "code",
   "execution_count": 16,
   "id": "3a807cd6-c234-451d-8a0a-8dbaf8828509",
   "metadata": {},
   "outputs": [
    {
     "name": "stderr",
     "output_type": "stream",
     "text": [
      "                                                                                \r"
     ]
    },
    {
     "name": "stdout",
     "output_type": "stream",
     "text": [
      "-RECORD 0------------------------------------\n",
      " source_id            | af26445              \n",
      " case_id              | 1014220226           \n",
      " case_opened_date     | 2/5/18 15:07         \n",
      " case_closed_date     | 2/5/18 17:59         \n",
      " SLA_due_date         | 6/13/18 15:07        \n",
      " case_late            | false                \n",
      " num_days_late        | -127.88046299999999  \n",
      " case_closed          | true                 \n",
      " dept_division        | Streets              \n",
      " service_request_type | Base/Pavement Repair \n",
      " SLA_days             | 128.0                \n",
      " case_status          | Closed               \n",
      " request_address      | BAYWATER DR and L... \n",
      " council_district     | 7                    \n",
      " case_closed_year     | null                 \n",
      " num_hours_late       | -3069.131112         \n",
      " source_username      | Alex Franklin        \n",
      "-RECORD 1------------------------------------\n",
      " source_id            | af26445              \n",
      " case_id              | 1014218339           \n",
      " case_opened_date     | 2/5/18 9:17          \n",
      " case_closed_date     | 2/7/18 15:57         \n",
      " SLA_due_date         | 2/19/18 9:17         \n",
      " case_late            | false                \n",
      " num_days_late        | -11.72241898         \n",
      " case_closed          | true                 \n",
      " dept_division        | Storm Water          \n",
      " service_request_type | Herbicide - Grass... \n",
      " SLA_days             | 14.0                 \n",
      " case_status          | Closed               \n",
      " request_address      | KYLE SEALE PY and... \n",
      " council_district     | 8                    \n",
      " case_closed_year     | null                 \n",
      " num_hours_late       | -281.33805552        \n",
      " source_username      | Alex Franklin        \n",
      "-RECORD 2------------------------------------\n",
      " source_id            | af26445              \n",
      " case_id              | 1014219925           \n",
      " case_opened_date     | 2/5/18 14:16         \n",
      " case_closed_date     | 2/7/18 12:16         \n",
      " SLA_due_date         | 5/1/18 14:16         \n",
      " case_late            | false                \n",
      " num_days_late        | -83.08341435         \n",
      " case_closed          | true                 \n",
      " dept_division        | Signals              \n",
      " service_request_type | Signal Timing Mod... \n",
      " SLA_days             | 85.0                 \n",
      " case_status          | Closed               \n",
      " request_address      | EWING HALSELL and... \n",
      " council_district     | 8                    \n",
      " case_closed_year     | null                 \n",
      " num_hours_late       | -1994.0019444        \n",
      " source_username      | Alex Franklin        \n",
      "-RECORD 3------------------------------------\n",
      " source_id            | af26445              \n",
      " case_id              | 1014218299           \n",
      " case_opened_date     | 2/5/18 9:07          \n",
      " case_closed_date     | 3/19/18 16:22        \n",
      " SLA_due_date         | 3/19/18 9:07         \n",
      " case_late            | true                 \n",
      " num_days_late        | 0.301863426          \n",
      " case_closed          | true                 \n",
      " dept_division        | Traffic Engineeri... \n",
      " service_request_type | Speed Limit Sign     \n",
      " SLA_days             | 42.0                 \n",
      " case_status          | Closed               \n",
      " request_address      | KYLE SEALE PY and... \n",
      " council_district     | 8                    \n",
      " case_closed_year     | null                 \n",
      " num_hours_late       | 7.244722224          \n",
      " source_username      | Alex Franklin        \n",
      "-RECORD 4------------------------------------\n",
      " source_id            | af26445              \n",
      " case_id              | 1014220627           \n",
      " case_opened_date     | 2/5/18 16:17         \n",
      " case_closed_date     | 2/6/18 10:03         \n",
      " SLA_due_date         | 4/9/18 16:17         \n",
      " case_late            | false                \n",
      " num_days_late        | -62.25969907         \n",
      " case_closed          | true                 \n",
      " dept_division        | Code Enforcement     \n",
      " service_request_type | Vacant Lot/Overgr... \n",
      " SLA_days             | 63.0                 \n",
      " case_status          | Closed               \n",
      " request_address      | 5727  FARINON DR,... \n",
      " council_district     | 8                    \n",
      " case_closed_year     | null                 \n",
      " num_hours_late       | -1494.23277768       \n",
      " source_username      | Alex Franklin        \n",
      "only showing top 5 rows\n",
      "\n",
      "-RECORD 0----------------------------------------------------\n",
      " dept_division        | Field Operations                     \n",
      " case_id              | 1014127332                           \n",
      " case_opened_date     | 1/1/18 0:42                          \n",
      " case_closed_date     | 1/1/18 12:29                         \n",
      " SLA_due_date         | 9/26/20 0:42                         \n",
      " case_late            | false                                \n",
      " num_days_late        | -998.5087616000001                   \n",
      " case_closed          | true                                 \n",
      " service_request_type | Stray Animal                         \n",
      " SLA_days             | 999.0                                \n",
      " case_status          | Closed                               \n",
      " source_id            | svcCRMLS                             \n",
      " request_address      | 2315  EL PASO ST, San Antonio, 78207 \n",
      " council_district     | 5                                    \n",
      " case_closed_year     | null                                 \n",
      " num_hours_late       | -23964.2102784                       \n",
      " department           | Animal Care Services                 \n",
      " dept_subject_to_SLA  | YES                                  \n",
      "only showing top 1 row\n",
      "\n"
     ]
    }
   ],
   "source": [
    "# 7. Join the case data with the source and department data.\n",
    "# join the case data with the source and department data.\n",
    "df = (\n",
    "    case\n",
    "    # left join on dept_division\n",
    "    .join(dept, \"dept_division\", \"left\")\n",
    "    # drop  the columns : dept_division, dept_name  standardized name, as it has much fewer unique values\n",
    "    .drop(dept.dept_division)\n",
    "    .drop(dept.dept_name)\n",
    "    #rename standardized name,  \n",
    "    .withColumnRenamed(\"standardized_dept_name\", \"department\")\n",
    ")\n",
    "\n",
    "(\n",
    "    case.join(source, \"source_id\", \"left\")\n",
    "    .sort(col(\"source_username\"))\n",
    "    .show(5, vertical=True)\n",
    ")\n",
    "\n",
    "df.show(1, False, True)"
   ]
  },
  {
   "cell_type": "code",
   "execution_count": 17,
   "id": "5c3a2c10-301d-494e-b84b-6305e6aa4990",
   "metadata": {},
   "outputs": [
    {
     "name": "stdout",
     "output_type": "stream",
     "text": [
      "(0 rows)\n",
      "\n"
     ]
    }
   ],
   "source": [
    "# 8. Are there any cases that do not have a request source?\n",
    "df.where(df.source_id.isNull()).show(3, False, True)"
   ]
  },
  {
   "cell_type": "code",
   "execution_count": 19,
   "id": "0c915154-6b97-4154-aa82-38fa532458b6",
   "metadata": {},
   "outputs": [
    {
     "name": "stderr",
     "output_type": "stream",
     "text": [
      "                                                                                \r"
     ]
    },
    {
     "name": "stdout",
     "output_type": "stream",
     "text": [
      "+--------------------------------+-----+\n",
      "|service_request_type            |count|\n",
      "+--------------------------------+-----+\n",
      "|No Pickup                       |86855|\n",
      "|Overgrown Yard/Trash            |65895|\n",
      "|Bandit Signs                    |32910|\n",
      "|Damaged Cart                    |30338|\n",
      "|Front Or Side Yard Parking      |28794|\n",
      "|Stray Animal                    |26760|\n",
      "|Aggressive Animal(Non-Critical) |24882|\n",
      "|Cart Exchange Request           |22024|\n",
      "|Junk Vehicle On Private Property|21473|\n",
      "|Pot Hole Repair                 |20616|\n",
      "+--------------------------------+-----+\n",
      "only showing top 10 rows\n",
      "\n"
     ]
    }
   ],
   "source": [
    "# 9. What are the top 10 service request types in terms of number of requests?\n",
    "df.groupBy(\"service_request_type\").count().orderBy(desc(\"count\")).show(10, truncate= False)"
   ]
  },
  {
   "cell_type": "code",
   "execution_count": 20,
   "id": "1490c622-93b7-4f1a-9747-7a9c06db592a",
   "metadata": {},
   "outputs": [
    {
     "name": "stderr",
     "output_type": "stream",
     "text": [
      "[Stage 32:>                                                         (0 + 8) / 8]\r"
     ]
    },
    {
     "name": "stdout",
     "output_type": "stream",
     "text": [
      "+--------------------------------------+------------------+\n",
      "|service_request_type                  |avg(num_days_late)|\n",
      "+--------------------------------------+------------------+\n",
      "|Zoning: Recycle Yard                  |210.89201994318182|\n",
      "|Zoning: Junk Yards                    |200.20517608494276|\n",
      "|Structure/Housing Maintenance         |190.20707698509807|\n",
      "|Donation Container Enforcement        |171.09115313942615|\n",
      "|Storage of Used Mattress              |163.96812829714287|\n",
      "|Labeling for Used Mattress            |162.43032902285717|\n",
      "|Record Keeping of Used Mattresses     |153.99724039428568|\n",
      "|Signage Requied for Sale of Used Mattr|151.63868055333333|\n",
      "|Traffic Signal Graffiti               |137.64583330000002|\n",
      "|License Requied Used Mattress Sales   |128.79828704142858|\n",
      "+--------------------------------------+------------------+\n",
      "only showing top 10 rows\n",
      "\n"
     ]
    },
    {
     "name": "stderr",
     "output_type": "stream",
     "text": [
      "                                                                                \r"
     ]
    }
   ],
   "source": [
    "# 10. What are the top 10 service request types in terms of average days late\n",
    "(\n",
    "df.where('case_late')# just the rows where case_late == true\n",
    ".groupBy(\"service_request_type\").mean(\"num_days_late\").orderBy(desc('avg(num_days_late)')).show(10, truncate= False)\n",
    ")"
   ]
  },
  {
   "cell_type": "code",
   "execution_count": 21,
   "id": "af4cf321-61bd-4f50-8475-c2654c9871c8",
   "metadata": {},
   "outputs": [
    {
     "name": "stderr",
     "output_type": "stream",
     "text": [
      "[Stage 36:>                                                         (0 + 8) / 8]\r"
     ]
    },
    {
     "name": "stdout",
     "output_type": "stream",
     "text": [
      "+------------------------+------------------+\n",
      "|department              |avg(num_days_late)|\n",
      "+------------------------+------------------+\n",
      "|Metro Health            |6.5438133155476494|\n",
      "|Solid Waste             |7.186821906120899 |\n",
      "|Trans & Cap Improvements|10.603064680316946|\n",
      "|Parks & Recreation      |22.348910457867518|\n",
      "|Animal Care Services    |23.458633245820124|\n",
      "|DSD/Code Enforcement    |49.38428705358908 |\n",
      "|Customer Service        |87.68385942150394 |\n",
      "+------------------------+------------------+\n",
      "\n"
     ]
    },
    {
     "name": "stderr",
     "output_type": "stream",
     "text": [
      "                                                                                \r"
     ]
    }
   ],
   "source": [
    "# 11. Does number of days late depend on department?\n",
    "df.where('case_late').groupBy(\"department\").agg(mean(\"num_days_late\")).sort('avg(num_days_late)').show(truncate=False)"
   ]
  },
  {
   "cell_type": "code",
   "execution_count": 22,
   "id": "e4154e15-5c1d-44de-98ea-78baa6087958",
   "metadata": {},
   "outputs": [
    {
     "name": "stdout",
     "output_type": "stream",
     "text": [
      "+--------------------+-----+\n",
      "|          department|count|\n",
      "+--------------------+-----+\n",
      "|         Solid Waste|32945|\n",
      "|Animal Care Services|23276|\n",
      "|Trans & Cap Impro...| 5411|\n",
      "|  Parks & Recreation| 3797|\n",
      "|    Customer Service| 2010|\n",
      "|        Metro Health|  829|\n",
      "|DSD/Code Enforcement|26235|\n",
      "+--------------------+-----+\n",
      "\n"
     ]
    },
    {
     "name": "stderr",
     "output_type": "stream",
     "text": [
      "                                                                                \r"
     ]
    }
   ],
   "source": [
    "df.where('case_late').groupBy(\"department\").count().show(10)"
   ]
  },
  {
   "cell_type": "code",
   "execution_count": 23,
   "id": "a7f20e32-fea1-4c7b-a60b-4347d27566da",
   "metadata": {},
   "outputs": [
    {
     "name": "stderr",
     "output_type": "stream",
     "text": [
      "                                                                                \r"
     ]
    },
    {
     "name": "stdout",
     "output_type": "stream",
     "text": [
      "+------------------------+---------+------------+\n",
      "|department              |days_late|n_cases_late|\n",
      "+------------------------+---------+------------+\n",
      "|Metro Health            |6.5      |829         |\n",
      "|Solid Waste             |7.2      |32945       |\n",
      "|Trans & Cap Improvements|10.6     |5411        |\n",
      "|Parks & Recreation      |22.3     |3797        |\n",
      "|Animal Care Services    |23.5     |23276       |\n",
      "|DSD/Code Enforcement    |49.4     |26235       |\n",
      "|Customer Service        |87.7     |2010        |\n",
      "+------------------------+---------+------------+\n",
      "\n"
     ]
    }
   ],
   "source": [
    "(df.filter('case_late')\n",
    " .groupby('department')\n",
    " .agg(mean('num_days_late')\n",
    "      .alias('days_late'), count('num_days_late')\n",
    "      .alias('n_cases_late'))\n",
    " .sort('days_late')\n",
    " .withColumn('days_late', round(col('days_late'), 1))\n",
    " .show(truncate=False)\n",
    ")"
   ]
  },
  {
   "cell_type": "code",
   "execution_count": 25,
   "id": "115ea14f-b829-4c60-9b59-e4bbccd353a1",
   "metadata": {},
   "outputs": [
    {
     "name": "stderr",
     "output_type": "stream",
     "text": [
      "[Stage 48:=======>                                                  (1 + 7) / 8]\r"
     ]
    },
    {
     "name": "stdout",
     "output_type": "stream",
     "text": [
      "+------------------------+----------------------------------------+------------------+\n",
      "|department              |service_request_type                    |avg(num_days_late)|\n",
      "+------------------------+----------------------------------------+------------------+\n",
      "|DSD/Code Enforcement    |Zoning: Junk Yards                      |209.39675114281033|\n",
      "|DSD/Code Enforcement    |Labeling for Used Mattress              |162.43032902285717|\n",
      "|DSD/Code Enforcement    |Record Keeping of Used Mattresses       |153.99724039428568|\n",
      "|DSD/Code Enforcement    |Signage Requied for Sale of Used Mattr  |151.63868055333333|\n",
      "|DSD/Code Enforcement    |Storage of Used Mattress                |142.11255641500003|\n",
      "|DSD/Code Enforcement    |Donation Container Enforcement          |141.27462658777188|\n",
      "|DSD/Code Enforcement    |Zoning: Recycle Yard                    |138.9798982976596 |\n",
      "|DSD/Code Enforcement    |License Requied Used Mattress Sales     |128.79828704142858|\n",
      "|DSD/Code Enforcement    |Vendors                                 |64.75045393423626 |\n",
      "|Customer Service        |Complaint                               |59.08863360820214 |\n",
      "|Solid Waste             |Contracted Service Issues               |56.72045236025    |\n",
      "|DSD/Code Enforcement    |Curbstoning                             |55.658426391555565|\n",
      "|DSD/Code Enforcement    |No Address Posted                       |51.36888754979229 |\n",
      "|DSD/Code Enforcement    |Street Light New Development            |30.898656124037036|\n",
      "|DSD/Code Enforcement    |Used Mattress Inspection                |30.168053900795922|\n",
      "|Solid Waste             |Service Information                     |26.43590262243919 |\n",
      "|Animal Care Services    |Animal Permits Request                  |21.959024389948393|\n",
      "|Solid Waste             |Solid Waste Fees and Charges            |21.501249168849267|\n",
      "|Animal Care Services    |Aggressive Animal(Critical)             |16.75615736532842 |\n",
      "|DSD/Code Enforcement    |Emergency: Main and Accessory Structures|16.436323896807693|\n",
      "|Parks & Recreation      |Sportfield Lighting                     |15.165030132098673|\n",
      "|DSD/Code Enforcement    |Historical Building (No Permits)        |15.016725821555553|\n",
      "|DSD/Code Enforcement    |Street Light Existing Res Sub Div       |14.813073303366236|\n",
      "|Solid Waste             |Organics Info / Literature Request      |14.559108010412693|\n",
      "|Parks & Recreation      |Park Building Maint Invest              |13.850866709372097|\n",
      "|Trans & Cap Improvements|Speed Hump Repairs - Emergency          |10.619367246277669|\n",
      "|Solid Waste             |Cart Placement                          |10.231222782262437|\n",
      "|Solid Waste             |Disability Service Requested            |9.149706090156789 |\n",
      "|DSD/Code Enforcement    |Emergency: Accessory Structure Only     |8.8055057874      |\n",
      "|Parks & Recreation      |Electrical                              |8.246191846614847 |\n",
      "|Animal Care Services    |Animal Neglect                          |7.332912699528614 |\n",
      "|Trans & Cap Improvements|Status: On-Going CIMS Projects          |6.410687722946177 |\n",
      "|Parks & Recreation      |Tree Removal                            |6.180858884491349 |\n",
      "|DSD/Code Enforcement    |Emergency: Main Structure Only          |5.32134339988372  |\n",
      "|Solid Waste             |Alley Problems                          |4.622079819892856 |\n",
      "|Parks & Recreation      |Painting                                |4.392657283371428 |\n",
      "|Parks & Recreation      |Tree Trimming/Maintenance               |4.334965299910648 |\n",
      "|Parks & Recreation      |Masonry                                 |4.302629729566893 |\n",
      "|Parks & Recreation      |Fence/Gate Repair                       |4.274257181529914 |\n",
      "|Parks & Recreation      |Sign Maintenance                        |4.141523684634147 |\n",
      "|Solid Waste             |Request for Commercial Service          |4.085507135584098 |\n",
      "|Solid Waste             |Solid Waste - Miscellaneous             |3.5691855093316516|\n",
      "|Solid Waste             |Automation Property Damage              |3.4230838425240004|\n",
      "|Parks & Recreation      |Amenity Park Improvement                |3.1368016593673476|\n",
      "|Animal Care Services    |Aggressive Animal(Non-Critical)         |2.6308026029786347|\n",
      "|Parks & Recreation      |General Building Maintenance            |2.1498612474470584|\n",
      "|Solid Waste             |Scattered Material                      |2.1246174074890645|\n",
      "|Parks & Recreation      |Miscellaneous Park Equipment            |2.0496996830263154|\n",
      "|Trans & Cap Improvements|Initiating Unknown Project Investigation|1.9789886652265847|\n",
      "|DSD/Code Enforcement    |Boarding Home Inspection                |1.8136948354545424|\n",
      "+------------------------+----------------------------------------+------------------+\n",
      "only showing top 50 rows\n",
      "\n"
     ]
    },
    {
     "name": "stderr",
     "output_type": "stream",
     "text": [
      "                                                                                \r"
     ]
    }
   ],
   "source": [
    "# 12. How do number of days late depend on department and request type?\n",
    "(df.filter(\"case_closed\")\n",
    " .groupBy(\"department\", \"service_request_type\")\n",
    " .mean(\"num_days_late\")\n",
    " .orderBy(desc('avg(num_days_late)'))\n",
    " .show(50, truncate= False)\n",
    ")"
   ]
  },
  {
   "cell_type": "code",
   "execution_count": null,
   "id": "48c69315-ecc7-44a6-a333-485e8100d9c1",
   "metadata": {},
   "outputs": [],
   "source": []
  }
 ],
 "metadata": {
  "kernelspec": {
   "display_name": "Python 3 (ipykernel)",
   "language": "python",
   "name": "python3"
  },
  "language_info": {
   "codemirror_mode": {
    "name": "ipython",
    "version": 3
   },
   "file_extension": ".py",
   "mimetype": "text/x-python",
   "name": "python",
   "nbconvert_exporter": "python",
   "pygments_lexer": "ipython3",
   "version": "3.9.7"
  }
 },
 "nbformat": 4,
 "nbformat_minor": 5
}
