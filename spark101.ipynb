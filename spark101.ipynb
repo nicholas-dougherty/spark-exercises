{
 "cells": [
  {
   "cell_type": "code",
   "execution_count": 1,
   "id": "f4dd8a8e-968f-4b2c-b259-b3709f8ebb32",
   "metadata": {},
   "outputs": [],
   "source": [
    "import pandas as pd\n",
    "import numpy as np\n",
    "import pyspark\n",
    "import pydataset\n",
    "from pyspark.sql.functions import sum, mean, concat, lit, regexp_extract, regexp_replace, when\n",
    "from vega_datasets import data\n",
    "from pyspark.sql.functions import month, year, quarter\n",
    "from pyspark.sql.functions import *\n",
    "\n",
    "np.random.seed(123)"
   ]
  },
  {
   "cell_type": "code",
   "execution_count": 2,
   "id": "dbe69ba1-cee7-4a59-8d04-fc32283dd341",
   "metadata": {},
   "outputs": [
    {
     "name": "stderr",
     "output_type": "stream",
     "text": [
      "WARNING: An illegal reflective access operation has occurred\n",
      "WARNING: Illegal reflective access by org.apache.spark.unsafe.Platform (file:/usr/local/anaconda3/lib/python3.9/site-packages/pyspark/jars/spark-unsafe_2.12-3.2.1.jar) to constructor java.nio.DirectByteBuffer(long,int)\n",
      "WARNING: Please consider reporting this to the maintainers of org.apache.spark.unsafe.Platform\n",
      "WARNING: Use --illegal-access=warn to enable warnings of further illegal reflective access operations\n",
      "WARNING: All illegal access operations will be denied in a future release\n",
      "Using Spark's default log4j profile: org/apache/spark/log4j-defaults.properties\n",
      "Setting default log level to \"WARN\".\n",
      "To adjust logging level use sc.setLogLevel(newLevel). For SparkR, use setLogLevel(newLevel).\n",
      "22/05/19 15:11:02 WARN NativeCodeLoader: Unable to load native-hadoop library for your platform... using builtin-java classes where applicable\n"
     ]
    }
   ],
   "source": [
    "spark = pyspark.sql.SparkSession.builder.getOrCreate()"
   ]
  },
  {
   "cell_type": "markdown",
   "id": "219379a7-00d1-48eb-a058-59d69ef0f3ab",
   "metadata": {},
   "source": [
    "1. Create a spark data frame that contains your favorite programming languages.\n",
    "\n",
    "- The name of the column should be language\n",
    "- View the schema of the dataframe\n",
    "- Output the shape of the dataframe\n",
    "- Show the first 5 records in the dataframe"
   ]
  },
  {
   "cell_type": "code",
   "execution_count": 3,
   "id": "b57b8aea-bb46-496d-bba4-9f0e16d0d6d2",
   "metadata": {},
   "outputs": [],
   "source": [
    "pandas_dataframe = pd.DataFrame(\n",
    "    {\n",
    "        \"language\": np.random.choice(list(['Python', 'SQL','R','Java', 'JavaScript', 'Swift', 'C#']), 25)\n",
    "    }\n",
    ")"
   ]
  },
  {
   "cell_type": "code",
   "execution_count": 4,
   "id": "f8661bba-528a-4bdc-9f2b-812c77907a11",
   "metadata": {},
   "outputs": [],
   "source": [
    "# create spark df \n",
    "df = spark.createDataFrame(pandas_dataframe)"
   ]
  },
  {
   "cell_type": "code",
   "execution_count": 5,
   "id": "ddc80a74-c31d-4f5a-a7be-10ccf2769744",
   "metadata": {},
   "outputs": [
    {
     "name": "stdout",
     "output_type": "stream",
     "text": [
      "root\n",
      " |-- language: string (nullable = true)\n",
      "\n"
     ]
    }
   ],
   "source": [
    "# view the dataframe's schema\n",
    "df.printSchema()"
   ]
  },
  {
   "cell_type": "code",
   "execution_count": 6,
   "id": "566ce663-5785-46f7-ac58-57e5433e06f0",
   "metadata": {},
   "outputs": [
    {
     "name": "stderr",
     "output_type": "stream",
     "text": [
      "[Stage 0:>                                                          (0 + 8) / 8]\r"
     ]
    },
    {
     "name": "stdout",
     "output_type": "stream",
     "text": [
      "(25, 1)\n"
     ]
    },
    {
     "name": "stderr",
     "output_type": "stream",
     "text": [
      "                                                                                \r"
     ]
    }
   ],
   "source": [
    "# output the shape of the dataframe\n",
    "print((df.count(), len(df.columns)))"
   ]
  },
  {
   "cell_type": "code",
   "execution_count": 7,
   "id": "d5fd4387-0617-4970-9037-ab108e61a517",
   "metadata": {},
   "outputs": [
    {
     "name": "stdout",
     "output_type": "stream",
     "text": [
      "+----------+\n",
      "|  language|\n",
      "+----------+\n",
      "|        C#|\n",
      "|     Swift|\n",
      "|        C#|\n",
      "|         R|\n",
      "|JavaScript|\n",
      "+----------+\n",
      "only showing top 5 rows\n",
      "\n"
     ]
    }
   ],
   "source": [
    "# Show the first five records in the dataframe\n",
    "df.show(5)"
   ]
  },
  {
   "cell_type": "markdown",
   "id": "1a2a9e6f-82ae-47f8-bda8-edc5ab9ba552",
   "metadata": {},
   "source": [
    "***\n",
    "2. Load the mpg dataset as a spark dataframe.\n",
    "\n",
    "- a. Create 1 column of output that contains a message like the one below:\n",
    "```\n",
    "The 1999 audi a4 has a 4 cylinder engine.\n",
    "```\n",
    "For each vehicle.\n",
    "\n",
    "- b. Transform the trans column so that it only contains either manual or auto."
   ]
  },
  {
   "cell_type": "code",
   "execution_count": 9,
   "id": "a7e52613-6867-4ed8-a9e2-80242e0ebe15",
   "metadata": {},
   "outputs": [
    {
     "name": "stdout",
     "output_type": "stream",
     "text": [
      "+------------+-----+-----+----+---+----------+---+---+---+---+-------+\n",
      "|manufacturer|model|displ|year|cyl|     trans|drv|cty|hwy| fl|  class|\n",
      "+------------+-----+-----+----+---+----------+---+---+---+---+-------+\n",
      "|        audi|   a4|  1.8|1999|  4|  auto(l5)|  f| 18| 29|  p|compact|\n",
      "|        audi|   a4|  1.8|1999|  4|manual(m5)|  f| 21| 29|  p|compact|\n",
      "|        audi|   a4|  2.0|2008|  4|manual(m6)|  f| 20| 31|  p|compact|\n",
      "|        audi|   a4|  2.0|2008|  4|  auto(av)|  f| 21| 30|  p|compact|\n",
      "|        audi|   a4|  2.8|1999|  6|  auto(l5)|  f| 16| 26|  p|compact|\n",
      "+------------+-----+-----+----+---+----------+---+---+---+---+-------+\n",
      "only showing top 5 rows\n",
      "\n"
     ]
    }
   ],
   "source": [
    "mpg = spark.createDataFrame(pydataset.data(\"mpg\"))\n",
    "mpg.show(5)"
   ]
  },
  {
   "cell_type": "code",
   "execution_count": 10,
   "id": "4206e01a-8e79-4af7-838f-562f62f865b0",
   "metadata": {},
   "outputs": [
    {
     "name": "stdout",
     "output_type": "stream",
     "text": [
      "+--------------------------------------------------------------+\n",
      "|vehicle_cylinder_desc                                         |\n",
      "+--------------------------------------------------------------+\n",
      "|The 1999 audi a4 has a 4 cylinder engine.                     |\n",
      "|The 1999 audi a4 has a 4 cylinder engine.                     |\n",
      "|The 2008 audi a4 has a 4 cylinder engine.                     |\n",
      "|The 2008 audi a4 has a 4 cylinder engine.                     |\n",
      "|The 1999 audi a4 has a 6 cylinder engine.                     |\n",
      "|The 1999 audi a4 has a 6 cylinder engine.                     |\n",
      "|The 2008 audi a4 has a 6 cylinder engine.                     |\n",
      "|The 1999 audi a4 quattro has a 4 cylinder engine.             |\n",
      "|The 1999 audi a4 quattro has a 4 cylinder engine.             |\n",
      "|The 2008 audi a4 quattro has a 4 cylinder engine.             |\n",
      "|The 2008 audi a4 quattro has a 4 cylinder engine.             |\n",
      "|The 1999 audi a4 quattro has a 6 cylinder engine.             |\n",
      "|The 1999 audi a4 quattro has a 6 cylinder engine.             |\n",
      "|The 2008 audi a4 quattro has a 6 cylinder engine.             |\n",
      "|The 2008 audi a4 quattro has a 6 cylinder engine.             |\n",
      "|The 1999 audi a6 quattro has a 6 cylinder engine.             |\n",
      "|The 2008 audi a6 quattro has a 6 cylinder engine.             |\n",
      "|The 2008 audi a6 quattro has a 8 cylinder engine.             |\n",
      "|The 2008 chevrolet c1500 suburban 2wd has a 8 cylinder engine.|\n",
      "|The 2008 chevrolet c1500 suburban 2wd has a 8 cylinder engine.|\n",
      "+--------------------------------------------------------------+\n",
      "only showing top 20 rows\n",
      "\n"
     ]
    }
   ],
   "source": [
    "mpg.select(\n",
    "    concat(\n",
    "        lit(\"The \"),\n",
    "        col(\"year\"),\n",
    "        lit(\" \"),\n",
    "        col(\"manufacturer\"),\n",
    "        lit(\" \"),\n",
    "        col(\"model\"),\n",
    "        lit(\" has a \"),\n",
    "        col(\"cyl\"),\n",
    "        lit(\" cylinder engine.\"),\n",
    "    ).alias(\"vehicle_cylinder_desc\")\n",
    ").show(truncate=False)"
   ]
  },
  {
   "cell_type": "code",
   "execution_count": 11,
   "id": "0eb18f38-6ef6-4d50-9410-70484980d820",
   "metadata": {},
   "outputs": [
    {
     "name": "stdout",
     "output_type": "stream",
     "text": [
      "+----------+------------+\n",
      "|     trans|transmission|\n",
      "+----------+------------+\n",
      "|  auto(l5)|        auto|\n",
      "|manual(m5)|      manual|\n",
      "|manual(m6)|      manual|\n",
      "|  auto(av)|        auto|\n",
      "|  auto(l5)|        auto|\n",
      "|manual(m5)|      manual|\n",
      "|  auto(av)|        auto|\n",
      "|manual(m5)|      manual|\n",
      "|  auto(l5)|        auto|\n",
      "|manual(m6)|      manual|\n",
      "|  auto(s6)|        auto|\n",
      "|  auto(l5)|        auto|\n",
      "|manual(m5)|      manual|\n",
      "|  auto(s6)|        auto|\n",
      "|manual(m6)|      manual|\n",
      "|  auto(l5)|        auto|\n",
      "|  auto(s6)|        auto|\n",
      "|  auto(s6)|        auto|\n",
      "|  auto(l4)|        auto|\n",
      "|  auto(l4)|        auto|\n",
      "+----------+------------+\n",
      "only showing top 20 rows\n",
      "\n"
     ]
    }
   ],
   "source": [
    "#select trans column\n",
    "#replace contents in trans that start with special character, then some characters, to a special character being the last\n",
    "#replace with nothing\n",
    "#name the column \n",
    "#show\n",
    "mpg.select('trans',regexp_replace('trans', r'\\(\\w+\\)$', '').alias('transmission')).show()"
   ]
  },
  {
   "cell_type": "markdown",
   "id": "b317c197-bde9-4572-909c-466cc57cc8aa",
   "metadata": {},
   "source": [
    "***\n",
    "3. Load the tips dataset as a spark dataframe.\n",
    "\n",
    "- What percentage of observations are smokers?\n",
    "- Create a column that contains the tip percentage\n",
    "- Calculate the average tip percentage for each combination of sex and smoker."
   ]
  },
  {
   "cell_type": "code",
   "execution_count": 28,
   "id": "7aa4622b-31c1-4397-ba70-1a1388c87c14",
   "metadata": {},
   "outputs": [],
   "source": [
    "#tips data into spark dataframe\n",
    "tips = spark.createDataFrame(pydataset.data(\"tips\"))"
   ]
  },
  {
   "cell_type": "code",
   "execution_count": 24,
   "id": "3c70dcc1-32fb-4852-bb18-19a4dd74d3f5",
   "metadata": {},
   "outputs": [
    {
     "name": "stdout",
     "output_type": "stream",
     "text": [
      "There are 93 smokers from the dataset.\n",
      "Smokers account for 38.114754098360656 percent of the dataframe\n"
     ]
    }
   ],
   "source": [
    "#the number of smokers\n",
    "smoker_count = tips.filter(tips.smoker == 'Yes').count()\n",
    "print('There are', smoker_count, 'smokers from the dataset.')\n",
    "#smoker percentage will be the number of smokers divided by number of entries\n",
    "smoke_percentage = ((tips.filter(tips.smoker == 'Yes').count())/(tips.count()))*100\n",
    "print('Smokers account for', smoke_percentage, 'percent of the dataframe')"
   ]
  },
  {
   "cell_type": "code",
   "execution_count": 25,
   "id": "85a4b5e7-0d5f-46f8-94fc-acc117e1ab9f",
   "metadata": {},
   "outputs": [
    {
     "name": "stdout",
     "output_type": "stream",
     "text": [
      "+----------+-----+-----+\n",
      "|tip_amount| bill| tip%|\n",
      "+----------+-----+-----+\n",
      "|      1.01|16.99| 5.94|\n",
      "|      1.66|10.34|16.05|\n",
      "|       3.5|21.01|16.66|\n",
      "|      3.31|23.68|13.98|\n",
      "|      3.61|24.59|14.68|\n",
      "+----------+-----+-----+\n",
      "only showing top 5 rows\n",
      "\n"
     ]
    }
   ],
   "source": [
    "# create a column that contains the tip percentage\n",
    "tip_percentage = round(((col(\"tip\") / col(\"total_bill\"))) * 100,2)\n",
    "\n",
    "tips.select(\n",
    "    col(\"tip\").alias(\"tip_amount\"),\n",
    "    tips.total_bill.alias(\"bill\"),\n",
    "    tip_percentage.alias(\"tip%\"),\n",
    ").show(5)"
   ]
  },
  {
   "cell_type": "code",
   "execution_count": 29,
   "id": "eef7b6fb-93be-4253-ad2d-0825989eeb0a",
   "metadata": {},
   "outputs": [
    {
     "name": "stdout",
     "output_type": "stream",
     "text": [
      "+----------+----+------+------+---+------+----+-------------------+\n",
      "|total_bill| tip|   sex|smoker|day|  time|size|            tip_pct|\n",
      "+----------+----+------+------+---+------+----+-------------------+\n",
      "|     16.99|1.01|Female|    No|Sun|Dinner|   2|0.05944673337257211|\n",
      "|     10.34|1.66|  Male|    No|Sun|Dinner|   3|0.16054158607350097|\n",
      "|     21.01| 3.5|  Male|    No|Sun|Dinner|   3|0.16658733936220846|\n",
      "|     23.68|3.31|  Male|    No|Sun|Dinner|   2| 0.1397804054054054|\n",
      "|     24.59|3.61|Female|    No|Sun|Dinner|   4|0.14680764538430255|\n",
      "+----------+----+------+------+---+------+----+-------------------+\n",
      "only showing top 5 rows\n",
      "\n"
     ]
    }
   ],
   "source": [
    "#just select, put the calculation in, and give it an alias if you wish\n",
    "tips = tips.select('*', (tips.tip / tips.total_bill).alias('tip_pct'))\n",
    "tips.show(5)"
   ]
  },
  {
   "cell_type": "code",
   "execution_count": 30,
   "id": "c6a15c5c-5181-44ed-a1c7-e22d96e04b6f",
   "metadata": {},
   "outputs": [
    {
     "name": "stdout",
     "output_type": "stream",
     "text": [
      "+------+------------------+-------------------+\n",
      "|   sex|                No|                Yes|\n",
      "+------+------------------+-------------------+\n",
      "|Female|0.1569209707691836|0.18215035269941032|\n",
      "|  Male|0.1606687151291298|0.15277117520248512|\n",
      "+------+------------------+-------------------+\n",
      "\n"
     ]
    }
   ],
   "source": [
    "#group by sex and smoker-status, then calculate the mean tip pct for each group.\n",
    "tips.groupby('sex').pivot('smoker').mean('tip_pct').show()"
   ]
  },
  {
   "cell_type": "markdown",
   "id": "82abc8a5-fbf0-4c93-9b9d-28aea69eb09b",
   "metadata": {},
   "source": [
    "***\n",
    "4. Use the seattle weather dataset referenced in the lesson to answer the questions below.\n",
    "\n",
    "- Convert the temperatures to fahrenheit.\n",
    "- Which month has the most rain, on average?\n",
    "- Which year was the windiest?\n",
    "- What is the most frequent type of weather in January?\n",
    "- What is the average high and low temperature on sunny days in July in 2013 and 2014?\n",
    "- What percentage of days were rainy in q3 of 2015?\n",
    "- For each year, find what percentage of days it rained (had non-zero precipitation)."
   ]
  },
  {
   "cell_type": "code",
   "execution_count": 3,
   "id": "59b7fafb-b23c-4d26-a1d7-1d915fc10c65",
   "metadata": {},
   "outputs": [
    {
     "name": "stderr",
     "output_type": "stream",
     "text": [
      "[Stage 0:>                                                          (0 + 1) / 1]\r"
     ]
    },
    {
     "name": "stdout",
     "output_type": "stream",
     "text": [
      "+----------+-------------+--------+--------+----+-------+\n",
      "|      date|precipitation|temp_max|temp_min|wind|weather|\n",
      "+----------+-------------+--------+--------+----+-------+\n",
      "|2012-01-01|          0.0|    12.8|     5.0| 4.7|drizzle|\n",
      "|2012-01-02|         10.9|    10.6|     2.8| 4.5|   rain|\n",
      "|2012-01-03|          0.8|    11.7|     7.2| 2.3|   rain|\n",
      "|2012-01-04|         20.3|    12.2|     5.6| 4.7|   rain|\n",
      "|2012-01-05|          1.3|     8.9|     2.8| 6.1|   rain|\n",
      "+----------+-------------+--------+--------+----+-------+\n",
      "only showing top 5 rows\n",
      "\n"
     ]
    },
    {
     "name": "stderr",
     "output_type": "stream",
     "text": [
      "                                                                                \r"
     ]
    }
   ],
   "source": [
    "#import data from vega\n",
    "from vega_datasets import data\n",
    "\n",
    "weather = data.seattle_weather().assign(date=lambda df: df.date.astype(str))\n",
    "weather = spark.createDataFrame(weather)\n",
    "weather.show(5)"
   ]
  },
  {
   "cell_type": "code",
   "execution_count": 4,
   "id": "c8079ad8-cb34-4836-ad19-994502bf49e5",
   "metadata": {},
   "outputs": [],
   "source": [
    "def convert_temp(celsius):\n",
    "    '''\n",
    "    converts celcius to fahrenheit\n",
    "    '''\n",
    "    fahrenheit = (celsius*(9/5)) + 32\n",
    "    return fahrenheit"
   ]
  },
  {
   "cell_type": "code",
   "execution_count": 5,
   "id": "48c28dee-4af7-43c4-9c41-abc3f09f94ec",
   "metadata": {},
   "outputs": [],
   "source": [
    "#convert min temps and max temps to fahrenheit\n",
    "weather = weather.select('*', convert_temp(weather.temp_max).alias('fahrenheit_max'), convert_temp(weather.temp_min).alias('fahrenheit_min'))"
   ]
  },
  {
   "cell_type": "code",
   "execution_count": 40,
   "id": "0d770159-582a-42c0-9aef-8a0bf4e727b1",
   "metadata": {},
   "outputs": [
    {
     "name": "stdout",
     "output_type": "stream",
     "text": [
      "+----------+-------------+--------+--------+----+-------+------------------+------------------+\n",
      "|      date|precipitation|temp_max|temp_min|wind|weather|    fahrenheit_max|    fahrenheit_min|\n",
      "+----------+-------------+--------+--------+----+-------+------------------+------------------+\n",
      "|2012-01-01|          0.0|    12.8|     5.0| 4.7|drizzle|55.040000000000006|              41.0|\n",
      "|2012-01-02|         10.9|    10.6|     2.8| 4.5|   rain|             51.08|             37.04|\n",
      "|2012-01-03|          0.8|    11.7|     7.2| 2.3|   rain|             53.06|             44.96|\n",
      "|2012-01-04|         20.3|    12.2|     5.6| 4.7|   rain|             53.96|             42.08|\n",
      "|2012-01-05|          1.3|     8.9|     2.8| 6.1|   rain|48.019999999999996|             37.04|\n",
      "|2012-01-06|          2.5|     4.4|     2.2| 2.2|   rain|             39.92|             35.96|\n",
      "|2012-01-07|          0.0|     7.2|     2.8| 2.3|   rain|             44.96|             37.04|\n",
      "|2012-01-08|          0.0|    10.0|     2.8| 2.0|    sun|              50.0|             37.04|\n",
      "|2012-01-09|          4.3|     9.4|     5.0| 3.4|   rain|             48.92|              41.0|\n",
      "|2012-01-10|          1.0|     6.1|     0.6| 3.4|   rain|42.980000000000004|             33.08|\n",
      "|2012-01-11|          0.0|     6.1|    -1.1| 5.1|    sun|42.980000000000004|             30.02|\n",
      "|2012-01-12|          0.0|     6.1|    -1.7| 1.9|    sun|42.980000000000004|             28.94|\n",
      "|2012-01-13|          0.0|     5.0|    -2.8| 1.3|    sun|              41.0|             26.96|\n",
      "|2012-01-14|          4.1|     4.4|     0.6| 5.3|   snow|             39.92|             33.08|\n",
      "|2012-01-15|          5.3|     1.1|    -3.3| 3.2|   snow|             33.98|26.060000000000002|\n",
      "|2012-01-16|          2.5|     1.7|    -2.8| 5.0|   snow|             35.06|             26.96|\n",
      "|2012-01-17|          8.1|     3.3|     0.0| 5.6|   snow|             37.94|              32.0|\n",
      "|2012-01-18|         19.8|     0.0|    -2.8| 5.0|   snow|              32.0|             26.96|\n",
      "|2012-01-19|         15.2|    -1.1|    -2.8| 1.6|   snow|             30.02|             26.96|\n",
      "|2012-01-20|         13.5|     7.2|    -1.1| 2.3|   snow|             44.96|             30.02|\n",
      "+----------+-------------+--------+--------+----+-------+------------------+------------------+\n",
      "only showing top 20 rows\n",
      "\n"
     ]
    }
   ],
   "source": [
    "weather.show()"
   ]
  },
  {
   "cell_type": "code",
   "execution_count": 41,
   "id": "dea37752-c02c-451b-ba3a-f5e75d0e9736",
   "metadata": {},
   "outputs": [
    {
     "name": "stdout",
     "output_type": "stream",
     "text": [
      "+-----+-----------------+\n",
      "|month|         avg_rain|\n",
      "+-----+-----------------+\n",
      "|   11|5.354166666666667|\n",
      "+-----+-----------------+\n",
      "only showing top 1 row\n",
      "\n"
     ]
    },
    {
     "name": "stderr",
     "output_type": "stream",
     "text": [
      "22/05/18 15:45:26 WARN HeartbeatReceiver: Removing executor driver with no recent heartbeats: 1017976 ms exceeds timeout 120000 ms\n",
      "22/05/18 15:45:26 WARN SparkContext: Killing executors is not supported by current scheduler.\n"
     ]
    }
   ],
   "source": [
    "# which month has the most rain on average?\n",
    "\n",
    "(weather.withColumn('month', month('date'))\n",
    "    .groupBy('month')\n",
    "    .agg(mean('precipitation').alias('avg_rain'))\n",
    "    .sort(desc('avg_rain'))\n",
    "    .show(1))"
   ]
  },
  {
   "cell_type": "code",
   "execution_count": 6,
   "id": "7c9aa2df-263d-4a53-9c2c-9964a3cc781e",
   "metadata": {},
   "outputs": [
    {
     "name": "stdout",
     "output_type": "stream",
     "text": [
      "+----+------------------+\n",
      "|year|        total_wind|\n",
      "+----+------------------+\n",
      "|2013|1100.8000000000006|\n",
      "|2015|1153.3000000000002|\n",
      "|2014|1236.5000000000007|\n",
      "|2012|            1244.7|\n",
      "+----+------------------+\n",
      "\n"
     ]
    }
   ],
   "source": [
    "# which year was the windiest?\n",
    "(\n",
    "    weather.withColumn(\"year\", year(\"date\"))\n",
    "    .groupBy(\"year\")\n",
    "    .agg(sum(\"wind\").alias(\"total_wind\"))\n",
    "    .sort(\"total_wind\")\n",
    "    .show()\n",
    ")"
   ]
  },
  {
   "cell_type": "code",
   "execution_count": 7,
   "id": "407c0f31-8e01-436b-b3cb-7a971bc9c6b1",
   "metadata": {},
   "outputs": [
    {
     "name": "stdout",
     "output_type": "stream",
     "text": [
      "+-------------+-------+---+----+----+---+\n",
      "|month_weather|drizzle|fog|rain|snow|sun|\n",
      "+-------------+-------+---+----+----+---+\n",
      "|            5|      1| 25|  16|   0| 82|\n",
      "|           10|      4| 55|  20|   0| 45|\n",
      "|            1|     10| 38|  35|   8| 33|\n",
      "|            6|      2| 14|  19|   0| 85|\n",
      "|            9|      5| 40|   4|   0| 71|\n",
      "|            2|      4| 36|  40|   3| 30|\n",
      "|           12|      2| 54|  23|   5| 40|\n",
      "|            7|      8| 13|  14|   0| 89|\n",
      "|            3|      3| 36|  37|   6| 42|\n",
      "|           11|      3| 50|  25|   0| 42|\n",
      "|            8|      8| 16|   6|   0| 94|\n",
      "|            4|      4| 34|  20|   1| 61|\n",
      "+-------------+-------+---+----+----+---+\n",
      "\n"
     ]
    }
   ],
   "source": [
    "# what is the most frequent type of weather in January\n",
    "weather = weather.withColumn('month', month('date'))\n",
    "weather.crosstab('month', 'weather').show()\n",
    "# It's close, but fog takes the cake"
   ]
  },
  {
   "cell_type": "code",
   "execution_count": 8,
   "id": "fb83563a-721c-4348-8c98-d228ea0a0dcf",
   "metadata": {},
   "outputs": [
    {
     "name": "stdout",
     "output_type": "stream",
     "text": [
      "+-------+------------------+------------------+\n",
      "|weather|              2013|              2014|\n",
      "+-------+------------------+------------------+\n",
      "|    fog| 22.96666666666667|25.439999999999998|\n",
      "|   rain|              22.2|              29.4|\n",
      "|    sun|26.585185185185193|            27.092|\n",
      "+-------+------------------+------------------+\n",
      "\n"
     ]
    }
   ],
   "source": [
    "# what is the average high and low temperature in july on sunny days for 2013 & 2014\n",
    "weather = weather.withColumn('year', year('date'))\n",
    "weather.filter(expr(\n",
    "    '(year == 2013 OR year == 2014) AND month == 07')).groupby('weather').pivot('year').mean('temp_max').show()"
   ]
  },
  {
   "cell_type": "code",
   "execution_count": 10,
   "id": "d8c09309-ae4b-4df5-ac9e-c22786acc0df",
   "metadata": {},
   "outputs": [
    {
     "name": "stdout",
     "output_type": "stream",
     "text": [
      "+-------+------------------+------------------+\n",
      "|weather|              2013|              2014|\n",
      "+-------+------------------+------------------+\n",
      "|    fog|13.133333333333335|14.440000000000001|\n",
      "|   rain|              15.0|              15.0|\n",
      "|    sun|13.981481481481483|14.400000000000002|\n",
      "+-------+------------------+------------------+\n",
      "\n"
     ]
    }
   ],
   "source": [
    "weather.filter(expr(\n",
    "    '(year == 2013 OR year == 2014) AND month == 07')).groupby('weather').pivot('year').mean('temp_min').show()"
   ]
  },
  {
   "cell_type": "code",
   "execution_count": 11,
   "id": "8d3743e8-2a7b-4ad2-8a4c-89066884bd4f",
   "metadata": {},
   "outputs": [
    {
     "name": "stdout",
     "output_type": "stream",
     "text": [
      "\n",
      "july '13: avg low for sunny days - 13.98 ; avg high - 26.59\n",
      "july '14: avg low for sunny days - 14.40 ; avg high - 27.09\n",
      "\n"
     ]
    }
   ],
   "source": [
    "print('''\n",
    "july '13: avg low for sunny days - 13.98 ; avg high - 26.59\n",
    "july '14: avg low for sunny days - 14.40 ; avg high - 27.09\n",
    "''')\n"
   ]
  },
  {
   "cell_type": "code",
   "execution_count": 13,
   "id": "5bfe9ef6-528c-44f8-8767-5ba6faa9c782",
   "metadata": {},
   "outputs": [
    {
     "name": "stdout",
     "output_type": "stream",
     "text": [
      "+----------+-------------+--------+--------+----+-------+------------------+--------------+-----+----+-------+\n",
      "|      date|precipitation|temp_max|temp_min|wind|weather|    fahrenheit_max|fahrenheit_min|month|year|quarter|\n",
      "+----------+-------------+--------+--------+----+-------+------------------+--------------+-----+----+-------+\n",
      "|2012-01-01|          0.0|    12.8|     5.0| 4.7|drizzle|55.040000000000006|          41.0|    1|2012|      1|\n",
      "|2012-01-02|         10.9|    10.6|     2.8| 4.5|   rain|             51.08|         37.04|    1|2012|      1|\n",
      "|2012-01-03|          0.8|    11.7|     7.2| 2.3|   rain|             53.06|         44.96|    1|2012|      1|\n",
      "|2012-01-04|         20.3|    12.2|     5.6| 4.7|   rain|             53.96|         42.08|    1|2012|      1|\n",
      "|2012-01-05|          1.3|     8.9|     2.8| 6.1|   rain|48.019999999999996|         37.04|    1|2012|      1|\n",
      "+----------+-------------+--------+--------+----+-------+------------------+--------------+-----+----+-------+\n",
      "only showing top 5 rows\n",
      "\n"
     ]
    }
   ],
   "source": [
    "# what percentage of days were rainy in q3 of 2015 \n",
    "weather = weather.withColumn('quarter', quarter('date'))\n",
    "weather.show(5)"
   ]
  },
  {
   "cell_type": "code",
   "execution_count": 14,
   "id": "98c3db04-693e-40d7-8496-3b847d347772",
   "metadata": {},
   "outputs": [
    {
     "name": "stdout",
     "output_type": "stream",
     "text": [
      "+----------+-------------+--------+--------+----+-------+-----------------+-----------------+-----+----+-------+\n",
      "|      date|precipitation|temp_max|temp_min|wind|weather|   fahrenheit_max|   fahrenheit_min|month|year|quarter|\n",
      "+----------+-------------+--------+--------+----+-------+-----------------+-----------------+-----+----+-------+\n",
      "|2015-07-01|          0.0|    32.2|    17.2| 4.3|    sun|89.96000000000001|            62.96|    7|2015|      3|\n",
      "|2015-07-02|          0.0|    33.9|    17.8| 3.4|    sun|            93.02|64.03999999999999|    7|2015|      3|\n",
      "|2015-07-03|          0.0|    33.3|    17.8| 2.6|    sun|            91.94|64.03999999999999|    7|2015|      3|\n",
      "|2015-07-04|          0.0|    33.3|    15.0| 2.9|    sun|            91.94|             59.0|    7|2015|      3|\n",
      "|2015-07-05|          0.0|    32.8|    16.7| 2.1|    sun|91.03999999999999|            62.06|    7|2015|      3|\n",
      "+----------+-------------+--------+--------+----+-------+-----------------+-----------------+-----+----+-------+\n",
      "only showing top 5 rows\n",
      "\n"
     ]
    }
   ],
   "source": [
    "rain_q3_2015 = weather.filter(expr('year == 2015 AND quarter == 3'))\n",
    "rain_q3_2015.show(5)"
   ]
  },
  {
   "cell_type": "code",
   "execution_count": 15,
   "id": "9ae0cae7-d707-4c58-958f-5a6b43ae87da",
   "metadata": {},
   "outputs": [
    {
     "data": {
      "text/plain": [
       "0.021739130434782608"
      ]
     },
     "execution_count": 15,
     "metadata": {},
     "output_type": "execute_result"
    }
   ],
   "source": [
    "rain_q3_2015.where(rain_q3_2015.weather=='rain').count() / rain_q3_2015.count()"
   ]
  },
  {
   "cell_type": "code",
   "execution_count": 16,
   "id": "3f844311-0cb6-43c0-895b-86ac7b642caa",
   "metadata": {},
   "outputs": [
    {
     "name": "stdout",
     "output_type": "stream",
     "text": [
      "+------------+-------+---+----+----+---+\n",
      "|year_weather|drizzle|fog|rain|snow|sun|\n",
      "+------------+-------+---+----+----+---+\n",
      "|        2012|     31|  5| 191|  21|118|\n",
      "|        2013|     16| 82|  60|   2|205|\n",
      "|        2014|      0|151|   3|   0|211|\n",
      "|        2015|      7|173|   5|   0|180|\n",
      "+------------+-------+---+----+----+---+\n",
      "\n"
     ]
    }
   ],
   "source": [
    "# For each year, find what percentage of days it rained (had non-zero precipitation)\n",
    "weather.crosstab('year','weather').show()"
   ]
  },
  {
   "cell_type": "code",
   "execution_count": 17,
   "id": "09c61d99-35bd-43b6-b00f-4530c0bcb6b5",
   "metadata": {},
   "outputs": [],
   "source": [
    "def percent_day_rain(string):\n",
    "    pct_rain = (weather.where(expr(string)).where(expr('precipitation > 0')).count()) / (weather.where(expr(string)).count())\n",
    "    return pct_rain"
   ]
  },
  {
   "cell_type": "code",
   "execution_count": 19,
   "id": "b8cfae9f-d8a2-4960-831a-a2c98681f8ee",
   "metadata": {},
   "outputs": [
    {
     "name": "stdout",
     "output_type": "stream",
     "text": [
      " The percentage of rainy days in 2012 is 0.48360655737704916\n",
      " The percentage of rainy days in 2013 is 0.41643835616438357\n",
      " The percentage of rainy days in 2014 is 0.410958904109589\n",
      " The percentage of rainy days in 2015 is 0.39452054794520547\n"
     ]
    }
   ],
   "source": [
    "print(f\" The percentage of rainy days in 2012 is {percent_day_rain('year==2012')}\")\n",
    "print(f\" The percentage of rainy days in 2013 is {percent_day_rain('year==2013')}\")\n",
    "print(f\" The percentage of rainy days in 2014 is {percent_day_rain('year==2014')}\")\n",
    "print(f\" The percentage of rainy days in 2015 is {percent_day_rain('year==2015')}\")"
   ]
  }
 ],
 "metadata": {
  "kernelspec": {
   "display_name": "Python 3 (ipykernel)",
   "language": "python",
   "name": "python3"
  },
  "language_info": {
   "codemirror_mode": {
    "name": "ipython",
    "version": 3
   },
   "file_extension": ".py",
   "mimetype": "text/x-python",
   "name": "python",
   "nbconvert_exporter": "python",
   "pygments_lexer": "ipython3",
   "version": "3.9.7"
  }
 },
 "nbformat": 4,
 "nbformat_minor": 5
}
